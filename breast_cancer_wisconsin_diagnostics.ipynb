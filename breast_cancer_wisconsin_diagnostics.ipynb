{
  "cells": [
    {
      "cell_type": "markdown",
      "metadata": {
        "id": "view-in-github",
        "colab_type": "text"
      },
      "source": [
        "<a href=\"https://colab.research.google.com/github/Mitchell-Odili/Breast-Cancer-Wisconsin-Diagnostic-Dataset/blob/main/breast_cancer_wisconsin_diagnostics.ipynb\" target=\"_parent\"><img src=\"https://colab.research.google.com/assets/colab-badge.svg\" alt=\"Open In Colab\"/></a>"
      ]
    },
    {
      "cell_type": "code",
      "execution_count": null,
      "id": "11993032",
      "metadata": {
        "id": "11993032"
      },
      "outputs": [],
      "source": [
        "# Jovian Commit Essentials\n",
        "# Please retain and execute this cell without modifying the contents for `jovian.commit` to work\n",
        "!pip install jovian --upgrade -q\n",
        "import jovian\n",
        "jovian.set_project('breast-cancer-wisconsin-diagnostics')\n",
        "jovian.set_colab_id('1AB6fE66hhMsqUn3re8HWcpbYj5znHo1E')"
      ]
    },
    {
      "cell_type": "markdown",
      "id": "706aa76c",
      "metadata": {
        "id": "706aa76c"
      },
      "source": [
        "### Breast Cancer Wisconsin Diagnostic Dataset \n",
        "\n",
        "Predict whether the cancer is benign or malignant\n",
        "\n",
        "![](data:image/png;base64,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)"
      ]
    },
    {
      "cell_type": "markdown",
      "id": "7495e947",
      "metadata": {
        "id": "7495e947"
      },
      "source": [
        "### Description\n",
        "\n",
        "Features are computed from a digitized image of a fine needle aspirate (FNA) of a breast mass. They describe characteristics of the cell nuclei present in the image.\n",
        "n the 3-dimensional space is that described in: [K. P. Bennett and O. L. Mangasarian: \"Robust Linear Programming Discrimination of Two Linearly Inseparable Sets\", Optimization Methods and Software 1, 1992, 23-34].\n",
        "\n",
        "This database is also available through the UW CS ftp server:\n",
        "ftp ftp.cs.wisc.edu\n",
        "cd math-prog/cpo-dataset/machine-learn/WDBC/\n",
        "\n",
        "Also can be found on UCI Machine Learning Repository: https://archive.ics.uci.edu/ml/datasets/Breast+Cancer+Wisconsin+%28Diagnostic%29\n",
        "\n",
        "Attribute Information:\n",
        "\n",
        "1) ID number\n",
        "2) Diagnosis (M = malignant, B = benign)\n",
        "3-32)\n",
        "\n",
        "Ten real-valued features are computed for each cell nucleus:\n",
        "\n",
        "a) radius (mean of distances from center to points on the perimeter)\n",
        "b) texture (standard deviation of gray-scale values)\n",
        "c) perimeter\n",
        "d) area\n",
        "e) smoothness (local variation in radius lengths)\n",
        "f) compactness (perimeter^2 / area - 1.0)\n",
        "g) concavity (severity of concave portions of the contour)\n",
        "h) concave points (number of concave portions of the contour)\n",
        "i) symmetry\n",
        "j) fractal dimension (\"coastline approximation\" - 1)\n",
        "\n",
        "The mean, standard error and \"worst\" or largest (mean of the three\n",
        "largest values) of these features were computed for each image,\n",
        "resulting in 30 features. For instance, field 3 is Mean Radius, field\n",
        "13 is Radius SE, field 23 is Worst Radius.\n",
        "\n",
        "All feature values are recoded with four significant digits.\n",
        "\n",
        "Missing attribute values: none\n",
        "\n",
        "Class distribution: 357 benign, 212 malignant"
      ]
    },
    {
      "cell_type": "markdown",
      "id": "3f11a27e",
      "metadata": {
        "id": "3f11a27e"
      },
      "source": [
        "We will use Logistic classification for this Classification problem"
      ]
    },
    {
      "cell_type": "markdown",
      "id": "f2321110",
      "metadata": {
        "id": "f2321110"
      },
      "source": [
        "### Logistic Regression for Solving Classification Problems\n",
        "\n",
        "Logistic regression is a commonly used technique for solving binary classification problems. In a logistic regression model: \n",
        "\n",
        "- we take linear combination (or weighted sum of the input features) \n",
        "- we apply the sigmoid function to the result to obtain a number between 0 and 1\n",
        "- this number represents the probability of the input being classified as \"Yes\"\n",
        "- instead of RMSE, the cross entropy loss function is used to evaluate the results\n",
        "\n",
        "\n",
        "Here's a visual summary of how a logistic regression model is structured ([source](http://datahacker.rs/005-pytorch-logistic-regression-in-pytorch/)):\n",
        "\n",
        "\n",
        "<img src=\"https://i.imgur.com/YMaMo5D.png\" width=\"480\">\n",
        "\n",
        "The sigmoid function applied to the linear combination of inputs has the following formula:\n",
        "\n",
        "<img src=\"https://i.imgur.com/sAVwvZP.png\" width=\"400\">\n",
        "\n",
        "\n",
        "The output of the sigmoid function is called a logistic, hence the name _logistic regression_. For a mathematical discussion of logistic regression, sigmoid activation and cross entropy, check out [this YouTube playlist](https://www.youtube.com/watch?v=-la3q9d7AKQ&list=PLNeKWBMsAzboR8vvhnlanxCNr2V7ITuxy&index=1). Logistic regression can also be applied to multi-class classification problems, with a few modifications."
      ]
    },
    {
      "cell_type": "markdown",
      "id": "41348646",
      "metadata": {
        "id": "41348646"
      },
      "source": [
        "### Machine Learning Workflow\n",
        "\n",
        "Whether we're solving a regression problem using linear regression or a classification problem using logistic regression, the workflow for training a model is exactly the same:\n",
        "\n",
        "1. We initialize a model with random parameters (weights & biases).\n",
        "2. We pass some inputs into the model to obtain predictions.\n",
        "3. We compare the model's predictions with the actual targets using the loss function.  \n",
        "4. We use an optimization technique (like least squares, gradient descent etc.) to reduce the loss by adjusting the weights & biases of the model\n",
        "5. We repeat steps 1 to 4 till the predictions from the model are good enough.\n",
        "\n",
        "\n",
        "<img src=\"https://www.deepnetts.com/blog/wp-content/uploads/2019/02/SupervisedLearning.png\" width=\"480\">\n",
        "\n",
        "\n",
        "Classification and regression are both supervised machine learning problems, because they use labeled data. Machine learning applied to unlabeled data is known as unsupervised learning ([image source](https://au.mathworks.com/help/stats/machine-learning-in-matlab.html)). \n",
        "\n",
        "<img src=\"https://i.imgur.com/1EMQmAw.png\" width=\"480\">\n",
        "\n",
        "\n",
        "In this tutorial, we'll train a _logistic regression_ model using the Breast Cancer Wisconsin dataset to predict whether a cancer is benign or malignant. This is a _binary classification_ problem.\n",
        "\n",
        "Let's install the `scikit-learn` library which we'll use to train our model and `jovian` to save our work."
      ]
    },
    {
      "cell_type": "code",
      "execution_count": null,
      "id": "5c30ba66",
      "metadata": {
        "id": "5c30ba66"
      },
      "outputs": [],
      "source": [
        "!pip install jovian scikit-learn --upgrade --quiet"
      ]
    },
    {
      "cell_type": "code",
      "execution_count": null,
      "id": "014518d5",
      "metadata": {
        "id": "014518d5"
      },
      "outputs": [],
      "source": [
        "import jovian"
      ]
    },
    {
      "cell_type": "code",
      "execution_count": null,
      "id": "b1161323",
      "metadata": {
        "id": "b1161323",
        "outputId": "3c09581c-32ec-4725-e819-77c4cdd6e30d"
      },
      "outputs": [
        {
          "data": {
            "application/javascript": [
              "window.require && require([\"base/js/namespace\"],function(Jupyter){Jupyter.notebook.save_checkpoint()})"
            ],
            "text/plain": [
              "<IPython.core.display.Javascript object>"
            ]
          },
          "metadata": {},
          "output_type": "display_data"
        },
        {
          "name": "stdout",
          "output_type": "stream",
          "text": [
            "[jovian] Updating notebook \"mitchell-odili/breast-cancer-wisconsin-diagnostics\" on https://jovian.ai/\u001b[0m\n",
            "[jovian] Committed successfully! https://jovian.ai/mitchell-odili/breast-cancer-wisconsin-diagnostics\u001b[0m\n"
          ]
        },
        {
          "data": {
            "text/plain": [
              "'https://jovian.ai/mitchell-odili/breast-cancer-wisconsin-diagnostics'"
            ]
          },
          "execution_count": 3,
          "metadata": {},
          "output_type": "execute_result"
        }
      ],
      "source": [
        "jovian.commit(project = 'Breast-Cancer-Wisconsin-Diagnostics')"
      ]
    },
    {
      "cell_type": "markdown",
      "id": "c5c44fb1",
      "metadata": {
        "id": "c5c44fb1"
      },
      "source": [
        "## Downloading the Data\n",
        "\n",
        "We'll use the [`opendatasets` library](https://github.com/JovianML/opendatasets) to download the data from Kaggle directly within Jupyter. Let's install and import `opendatasets`."
      ]
    },
    {
      "cell_type": "code",
      "execution_count": null,
      "id": "6e8e04f2",
      "metadata": {
        "id": "6e8e04f2"
      },
      "outputs": [],
      "source": [
        "!pip install opendatasets --upgrade --quiet"
      ]
    },
    {
      "cell_type": "code",
      "execution_count": null,
      "id": "080aab92",
      "metadata": {
        "id": "080aab92"
      },
      "outputs": [],
      "source": [
        "import opendatasets as od"
      ]
    },
    {
      "cell_type": "code",
      "execution_count": null,
      "id": "39e518b3",
      "metadata": {
        "id": "39e518b3",
        "outputId": "7698a417-105d-4eb9-fc47-15aeb35b0e2d"
      },
      "outputs": [
        {
          "data": {
            "text/plain": [
              "'0.1.20'"
            ]
          },
          "execution_count": 6,
          "metadata": {},
          "output_type": "execute_result"
        }
      ],
      "source": [
        "od.version()"
      ]
    },
    {
      "cell_type": "markdown",
      "id": "f4932e2c",
      "metadata": {
        "id": "f4932e2c"
      },
      "source": [
        "The dataset can now be downloaded using `od.download`. When you execute `od.download`, you will be asked to provide your Kaggle username and API key. Follow these instructions to create an API key: http://bit.ly/kaggle-creds"
      ]
    },
    {
      "cell_type": "code",
      "execution_count": null,
      "id": "3e12b340",
      "metadata": {
        "id": "3e12b340"
      },
      "outputs": [],
      "source": [
        "dataset_url = 'https://www.kaggle.com/uciml/breast-cancer-wisconsin-data'"
      ]
    },
    {
      "cell_type": "code",
      "execution_count": null,
      "id": "dcbbe00b",
      "metadata": {
        "id": "dcbbe00b",
        "outputId": "5ed2e90e-d5a7-4415-e876-debafe8e44c6"
      },
      "outputs": [
        {
          "name": "stdout",
          "output_type": "stream",
          "text": [
            "Skipping, found downloaded files in \".\\breast-cancer-wisconsin-data\" (use force=True to force download)\n"
          ]
        }
      ],
      "source": [
        "od.download(dataset_url)"
      ]
    },
    {
      "cell_type": "markdown",
      "id": "26ecf35d",
      "metadata": {
        "id": "26ecf35d"
      },
      "source": [
        "Once the above command is executed, the dataset is downloaded and extracted to the the directory `breast-cancer-wisconsin-data`."
      ]
    },
    {
      "cell_type": "code",
      "execution_count": null,
      "id": "8749ab5c",
      "metadata": {
        "id": "8749ab5c"
      },
      "outputs": [],
      "source": [
        "import os"
      ]
    },
    {
      "cell_type": "code",
      "execution_count": null,
      "id": "34628a81",
      "metadata": {
        "id": "34628a81"
      },
      "outputs": [],
      "source": [
        "data_dir = './breast-cancer-wisconsin-data'"
      ]
    },
    {
      "cell_type": "code",
      "execution_count": null,
      "id": "b7800a4c",
      "metadata": {
        "id": "b7800a4c",
        "outputId": "7f0d9a85-33ee-48f9-8fd5-e55bf0bed8e7"
      },
      "outputs": [
        {
          "data": {
            "text/plain": [
              "['data.csv']"
            ]
          },
          "execution_count": 11,
          "metadata": {},
          "output_type": "execute_result"
        }
      ],
      "source": [
        "os.listdir(data_dir)"
      ]
    },
    {
      "cell_type": "code",
      "execution_count": null,
      "id": "e3cdda30",
      "metadata": {
        "id": "e3cdda30"
      },
      "outputs": [],
      "source": [
        "train_csv = data_dir + '/data.csv'"
      ]
    },
    {
      "cell_type": "markdown",
      "id": "1126ed14",
      "metadata": {
        "id": "1126ed14"
      },
      "source": [
        "Let's load the data from `data.csv` using Pandas."
      ]
    },
    {
      "cell_type": "code",
      "execution_count": null,
      "id": "cf1b5a7f",
      "metadata": {
        "id": "cf1b5a7f"
      },
      "outputs": [],
      "source": [
        "!pip install pandas --quiet"
      ]
    },
    {
      "cell_type": "code",
      "execution_count": null,
      "id": "03fba899",
      "metadata": {
        "id": "03fba899"
      },
      "outputs": [],
      "source": [
        "import pandas as pd"
      ]
    },
    {
      "cell_type": "code",
      "execution_count": null,
      "id": "7b1f6388",
      "metadata": {
        "id": "7b1f6388",
        "outputId": "d8bb9a1d-fb03-4db4-b5e8-114ac04e8236"
      },
      "outputs": [
        {
          "data": {
            "text/html": [
              "<div>\n",
              "<style scoped>\n",
              "    .dataframe tbody tr th:only-of-type {\n",
              "        vertical-align: middle;\n",
              "    }\n",
              "\n",
              "    .dataframe tbody tr th {\n",
              "        vertical-align: top;\n",
              "    }\n",
              "\n",
              "    .dataframe thead th {\n",
              "        text-align: right;\n",
              "    }\n",
              "</style>\n",
              "<table border=\"1\" class=\"dataframe\">\n",
              "  <thead>\n",
              "    <tr style=\"text-align: right;\">\n",
              "      <th></th>\n",
              "      <th>id</th>\n",
              "      <th>diagnosis</th>\n",
              "      <th>radius_mean</th>\n",
              "      <th>texture_mean</th>\n",
              "      <th>perimeter_mean</th>\n",
              "      <th>area_mean</th>\n",
              "      <th>smoothness_mean</th>\n",
              "      <th>compactness_mean</th>\n",
              "      <th>concavity_mean</th>\n",
              "      <th>concave points_mean</th>\n",
              "      <th>...</th>\n",
              "      <th>texture_worst</th>\n",
              "      <th>perimeter_worst</th>\n",
              "      <th>area_worst</th>\n",
              "      <th>smoothness_worst</th>\n",
              "      <th>compactness_worst</th>\n",
              "      <th>concavity_worst</th>\n",
              "      <th>concave points_worst</th>\n",
              "      <th>symmetry_worst</th>\n",
              "      <th>fractal_dimension_worst</th>\n",
              "      <th>Unnamed: 32</th>\n",
              "    </tr>\n",
              "  </thead>\n",
              "  <tbody>\n",
              "    <tr>\n",
              "      <th>0</th>\n",
              "      <td>842302</td>\n",
              "      <td>M</td>\n",
              "      <td>17.99</td>\n",
              "      <td>10.38</td>\n",
              "      <td>122.80</td>\n",
              "      <td>1001.0</td>\n",
              "      <td>0.11840</td>\n",
              "      <td>0.27760</td>\n",
              "      <td>0.30010</td>\n",
              "      <td>0.14710</td>\n",
              "      <td>...</td>\n",
              "      <td>17.33</td>\n",
              "      <td>184.60</td>\n",
              "      <td>2019.0</td>\n",
              "      <td>0.16220</td>\n",
              "      <td>0.66560</td>\n",
              "      <td>0.7119</td>\n",
              "      <td>0.2654</td>\n",
              "      <td>0.4601</td>\n",
              "      <td>0.11890</td>\n",
              "      <td>NaN</td>\n",
              "    </tr>\n",
              "    <tr>\n",
              "      <th>1</th>\n",
              "      <td>842517</td>\n",
              "      <td>M</td>\n",
              "      <td>20.57</td>\n",
              "      <td>17.77</td>\n",
              "      <td>132.90</td>\n",
              "      <td>1326.0</td>\n",
              "      <td>0.08474</td>\n",
              "      <td>0.07864</td>\n",
              "      <td>0.08690</td>\n",
              "      <td>0.07017</td>\n",
              "      <td>...</td>\n",
              "      <td>23.41</td>\n",
              "      <td>158.80</td>\n",
              "      <td>1956.0</td>\n",
              "      <td>0.12380</td>\n",
              "      <td>0.18660</td>\n",
              "      <td>0.2416</td>\n",
              "      <td>0.1860</td>\n",
              "      <td>0.2750</td>\n",
              "      <td>0.08902</td>\n",
              "      <td>NaN</td>\n",
              "    </tr>\n",
              "    <tr>\n",
              "      <th>2</th>\n",
              "      <td>84300903</td>\n",
              "      <td>M</td>\n",
              "      <td>19.69</td>\n",
              "      <td>21.25</td>\n",
              "      <td>130.00</td>\n",
              "      <td>1203.0</td>\n",
              "      <td>0.10960</td>\n",
              "      <td>0.15990</td>\n",
              "      <td>0.19740</td>\n",
              "      <td>0.12790</td>\n",
              "      <td>...</td>\n",
              "      <td>25.53</td>\n",
              "      <td>152.50</td>\n",
              "      <td>1709.0</td>\n",
              "      <td>0.14440</td>\n",
              "      <td>0.42450</td>\n",
              "      <td>0.4504</td>\n",
              "      <td>0.2430</td>\n",
              "      <td>0.3613</td>\n",
              "      <td>0.08758</td>\n",
              "      <td>NaN</td>\n",
              "    </tr>\n",
              "    <tr>\n",
              "      <th>3</th>\n",
              "      <td>84348301</td>\n",
              "      <td>M</td>\n",
              "      <td>11.42</td>\n",
              "      <td>20.38</td>\n",
              "      <td>77.58</td>\n",
              "      <td>386.1</td>\n",
              "      <td>0.14250</td>\n",
              "      <td>0.28390</td>\n",
              "      <td>0.24140</td>\n",
              "      <td>0.10520</td>\n",
              "      <td>...</td>\n",
              "      <td>26.50</td>\n",
              "      <td>98.87</td>\n",
              "      <td>567.7</td>\n",
              "      <td>0.20980</td>\n",
              "      <td>0.86630</td>\n",
              "      <td>0.6869</td>\n",
              "      <td>0.2575</td>\n",
              "      <td>0.6638</td>\n",
              "      <td>0.17300</td>\n",
              "      <td>NaN</td>\n",
              "    </tr>\n",
              "    <tr>\n",
              "      <th>4</th>\n",
              "      <td>84358402</td>\n",
              "      <td>M</td>\n",
              "      <td>20.29</td>\n",
              "      <td>14.34</td>\n",
              "      <td>135.10</td>\n",
              "      <td>1297.0</td>\n",
              "      <td>0.10030</td>\n",
              "      <td>0.13280</td>\n",
              "      <td>0.19800</td>\n",
              "      <td>0.10430</td>\n",
              "      <td>...</td>\n",
              "      <td>16.67</td>\n",
              "      <td>152.20</td>\n",
              "      <td>1575.0</td>\n",
              "      <td>0.13740</td>\n",
              "      <td>0.20500</td>\n",
              "      <td>0.4000</td>\n",
              "      <td>0.1625</td>\n",
              "      <td>0.2364</td>\n",
              "      <td>0.07678</td>\n",
              "      <td>NaN</td>\n",
              "    </tr>\n",
              "    <tr>\n",
              "      <th>...</th>\n",
              "      <td>...</td>\n",
              "      <td>...</td>\n",
              "      <td>...</td>\n",
              "      <td>...</td>\n",
              "      <td>...</td>\n",
              "      <td>...</td>\n",
              "      <td>...</td>\n",
              "      <td>...</td>\n",
              "      <td>...</td>\n",
              "      <td>...</td>\n",
              "      <td>...</td>\n",
              "      <td>...</td>\n",
              "      <td>...</td>\n",
              "      <td>...</td>\n",
              "      <td>...</td>\n",
              "      <td>...</td>\n",
              "      <td>...</td>\n",
              "      <td>...</td>\n",
              "      <td>...</td>\n",
              "      <td>...</td>\n",
              "      <td>...</td>\n",
              "    </tr>\n",
              "    <tr>\n",
              "      <th>564</th>\n",
              "      <td>926424</td>\n",
              "      <td>M</td>\n",
              "      <td>21.56</td>\n",
              "      <td>22.39</td>\n",
              "      <td>142.00</td>\n",
              "      <td>1479.0</td>\n",
              "      <td>0.11100</td>\n",
              "      <td>0.11590</td>\n",
              "      <td>0.24390</td>\n",
              "      <td>0.13890</td>\n",
              "      <td>...</td>\n",
              "      <td>26.40</td>\n",
              "      <td>166.10</td>\n",
              "      <td>2027.0</td>\n",
              "      <td>0.14100</td>\n",
              "      <td>0.21130</td>\n",
              "      <td>0.4107</td>\n",
              "      <td>0.2216</td>\n",
              "      <td>0.2060</td>\n",
              "      <td>0.07115</td>\n",
              "      <td>NaN</td>\n",
              "    </tr>\n",
              "    <tr>\n",
              "      <th>565</th>\n",
              "      <td>926682</td>\n",
              "      <td>M</td>\n",
              "      <td>20.13</td>\n",
              "      <td>28.25</td>\n",
              "      <td>131.20</td>\n",
              "      <td>1261.0</td>\n",
              "      <td>0.09780</td>\n",
              "      <td>0.10340</td>\n",
              "      <td>0.14400</td>\n",
              "      <td>0.09791</td>\n",
              "      <td>...</td>\n",
              "      <td>38.25</td>\n",
              "      <td>155.00</td>\n",
              "      <td>1731.0</td>\n",
              "      <td>0.11660</td>\n",
              "      <td>0.19220</td>\n",
              "      <td>0.3215</td>\n",
              "      <td>0.1628</td>\n",
              "      <td>0.2572</td>\n",
              "      <td>0.06637</td>\n",
              "      <td>NaN</td>\n",
              "    </tr>\n",
              "    <tr>\n",
              "      <th>566</th>\n",
              "      <td>926954</td>\n",
              "      <td>M</td>\n",
              "      <td>16.60</td>\n",
              "      <td>28.08</td>\n",
              "      <td>108.30</td>\n",
              "      <td>858.1</td>\n",
              "      <td>0.08455</td>\n",
              "      <td>0.10230</td>\n",
              "      <td>0.09251</td>\n",
              "      <td>0.05302</td>\n",
              "      <td>...</td>\n",
              "      <td>34.12</td>\n",
              "      <td>126.70</td>\n",
              "      <td>1124.0</td>\n",
              "      <td>0.11390</td>\n",
              "      <td>0.30940</td>\n",
              "      <td>0.3403</td>\n",
              "      <td>0.1418</td>\n",
              "      <td>0.2218</td>\n",
              "      <td>0.07820</td>\n",
              "      <td>NaN</td>\n",
              "    </tr>\n",
              "    <tr>\n",
              "      <th>567</th>\n",
              "      <td>927241</td>\n",
              "      <td>M</td>\n",
              "      <td>20.60</td>\n",
              "      <td>29.33</td>\n",
              "      <td>140.10</td>\n",
              "      <td>1265.0</td>\n",
              "      <td>0.11780</td>\n",
              "      <td>0.27700</td>\n",
              "      <td>0.35140</td>\n",
              "      <td>0.15200</td>\n",
              "      <td>...</td>\n",
              "      <td>39.42</td>\n",
              "      <td>184.60</td>\n",
              "      <td>1821.0</td>\n",
              "      <td>0.16500</td>\n",
              "      <td>0.86810</td>\n",
              "      <td>0.9387</td>\n",
              "      <td>0.2650</td>\n",
              "      <td>0.4087</td>\n",
              "      <td>0.12400</td>\n",
              "      <td>NaN</td>\n",
              "    </tr>\n",
              "    <tr>\n",
              "      <th>568</th>\n",
              "      <td>92751</td>\n",
              "      <td>B</td>\n",
              "      <td>7.76</td>\n",
              "      <td>24.54</td>\n",
              "      <td>47.92</td>\n",
              "      <td>181.0</td>\n",
              "      <td>0.05263</td>\n",
              "      <td>0.04362</td>\n",
              "      <td>0.00000</td>\n",
              "      <td>0.00000</td>\n",
              "      <td>...</td>\n",
              "      <td>30.37</td>\n",
              "      <td>59.16</td>\n",
              "      <td>268.6</td>\n",
              "      <td>0.08996</td>\n",
              "      <td>0.06444</td>\n",
              "      <td>0.0000</td>\n",
              "      <td>0.0000</td>\n",
              "      <td>0.2871</td>\n",
              "      <td>0.07039</td>\n",
              "      <td>NaN</td>\n",
              "    </tr>\n",
              "  </tbody>\n",
              "</table>\n",
              "<p>569 rows × 33 columns</p>\n",
              "</div>"
            ],
            "text/plain": [
              "           id diagnosis  radius_mean  texture_mean  perimeter_mean  area_mean  \\\n",
              "0      842302         M        17.99         10.38          122.80     1001.0   \n",
              "1      842517         M        20.57         17.77          132.90     1326.0   \n",
              "2    84300903         M        19.69         21.25          130.00     1203.0   \n",
              "3    84348301         M        11.42         20.38           77.58      386.1   \n",
              "4    84358402         M        20.29         14.34          135.10     1297.0   \n",
              "..        ...       ...          ...           ...             ...        ...   \n",
              "564    926424         M        21.56         22.39          142.00     1479.0   \n",
              "565    926682         M        20.13         28.25          131.20     1261.0   \n",
              "566    926954         M        16.60         28.08          108.30      858.1   \n",
              "567    927241         M        20.60         29.33          140.10     1265.0   \n",
              "568     92751         B         7.76         24.54           47.92      181.0   \n",
              "\n",
              "     smoothness_mean  compactness_mean  concavity_mean  concave points_mean  \\\n",
              "0            0.11840           0.27760         0.30010              0.14710   \n",
              "1            0.08474           0.07864         0.08690              0.07017   \n",
              "2            0.10960           0.15990         0.19740              0.12790   \n",
              "3            0.14250           0.28390         0.24140              0.10520   \n",
              "4            0.10030           0.13280         0.19800              0.10430   \n",
              "..               ...               ...             ...                  ...   \n",
              "564          0.11100           0.11590         0.24390              0.13890   \n",
              "565          0.09780           0.10340         0.14400              0.09791   \n",
              "566          0.08455           0.10230         0.09251              0.05302   \n",
              "567          0.11780           0.27700         0.35140              0.15200   \n",
              "568          0.05263           0.04362         0.00000              0.00000   \n",
              "\n",
              "     ...  texture_worst  perimeter_worst  area_worst  smoothness_worst  \\\n",
              "0    ...          17.33           184.60      2019.0           0.16220   \n",
              "1    ...          23.41           158.80      1956.0           0.12380   \n",
              "2    ...          25.53           152.50      1709.0           0.14440   \n",
              "3    ...          26.50            98.87       567.7           0.20980   \n",
              "4    ...          16.67           152.20      1575.0           0.13740   \n",
              "..   ...            ...              ...         ...               ...   \n",
              "564  ...          26.40           166.10      2027.0           0.14100   \n",
              "565  ...          38.25           155.00      1731.0           0.11660   \n",
              "566  ...          34.12           126.70      1124.0           0.11390   \n",
              "567  ...          39.42           184.60      1821.0           0.16500   \n",
              "568  ...          30.37            59.16       268.6           0.08996   \n",
              "\n",
              "     compactness_worst  concavity_worst  concave points_worst  symmetry_worst  \\\n",
              "0              0.66560           0.7119                0.2654          0.4601   \n",
              "1              0.18660           0.2416                0.1860          0.2750   \n",
              "2              0.42450           0.4504                0.2430          0.3613   \n",
              "3              0.86630           0.6869                0.2575          0.6638   \n",
              "4              0.20500           0.4000                0.1625          0.2364   \n",
              "..                 ...              ...                   ...             ...   \n",
              "564            0.21130           0.4107                0.2216          0.2060   \n",
              "565            0.19220           0.3215                0.1628          0.2572   \n",
              "566            0.30940           0.3403                0.1418          0.2218   \n",
              "567            0.86810           0.9387                0.2650          0.4087   \n",
              "568            0.06444           0.0000                0.0000          0.2871   \n",
              "\n",
              "     fractal_dimension_worst  Unnamed: 32  \n",
              "0                    0.11890          NaN  \n",
              "1                    0.08902          NaN  \n",
              "2                    0.08758          NaN  \n",
              "3                    0.17300          NaN  \n",
              "4                    0.07678          NaN  \n",
              "..                       ...          ...  \n",
              "564                  0.07115          NaN  \n",
              "565                  0.06637          NaN  \n",
              "566                  0.07820          NaN  \n",
              "567                  0.12400          NaN  \n",
              "568                  0.07039          NaN  \n",
              "\n",
              "[569 rows x 33 columns]"
            ]
          },
          "execution_count": 15,
          "metadata": {},
          "output_type": "execute_result"
        }
      ],
      "source": [
        "raw_df = pd.read_csv(train_csv)\n",
        "raw_df"
      ]
    },
    {
      "cell_type": "markdown",
      "id": "5ef5f106",
      "metadata": {
        "id": "5ef5f106"
      },
      "source": [
        "The dataset contains over 569 rows and 33 columns. The dataset contains numeric and categorical columns. Our objective is to create a model to predict the value in the column `diagnosis`.\n",
        "\n",
        "Let's check the data types and missing values in the various columns."
      ]
    },
    {
      "cell_type": "code",
      "execution_count": null,
      "id": "60b9e75a",
      "metadata": {
        "id": "60b9e75a",
        "outputId": "7ced2c0e-8c38-4e3f-f253-c84da35945ab"
      },
      "outputs": [
        {
          "name": "stdout",
          "output_type": "stream",
          "text": [
            "<class 'pandas.core.frame.DataFrame'>\n",
            "RangeIndex: 569 entries, 0 to 568\n",
            "Data columns (total 33 columns):\n",
            " #   Column                   Non-Null Count  Dtype  \n",
            "---  ------                   --------------  -----  \n",
            " 0   id                       569 non-null    int64  \n",
            " 1   diagnosis                569 non-null    object \n",
            " 2   radius_mean              569 non-null    float64\n",
            " 3   texture_mean             569 non-null    float64\n",
            " 4   perimeter_mean           569 non-null    float64\n",
            " 5   area_mean                569 non-null    float64\n",
            " 6   smoothness_mean          569 non-null    float64\n",
            " 7   compactness_mean         569 non-null    float64\n",
            " 8   concavity_mean           569 non-null    float64\n",
            " 9   concave points_mean      569 non-null    float64\n",
            " 10  symmetry_mean            569 non-null    float64\n",
            " 11  fractal_dimension_mean   569 non-null    float64\n",
            " 12  radius_se                569 non-null    float64\n",
            " 13  texture_se               569 non-null    float64\n",
            " 14  perimeter_se             569 non-null    float64\n",
            " 15  area_se                  569 non-null    float64\n",
            " 16  smoothness_se            569 non-null    float64\n",
            " 17  compactness_se           569 non-null    float64\n",
            " 18  concavity_se             569 non-null    float64\n",
            " 19  concave points_se        569 non-null    float64\n",
            " 20  symmetry_se              569 non-null    float64\n",
            " 21  fractal_dimension_se     569 non-null    float64\n",
            " 22  radius_worst             569 non-null    float64\n",
            " 23  texture_worst            569 non-null    float64\n",
            " 24  perimeter_worst          569 non-null    float64\n",
            " 25  area_worst               569 non-null    float64\n",
            " 26  smoothness_worst         569 non-null    float64\n",
            " 27  compactness_worst        569 non-null    float64\n",
            " 28  concavity_worst          569 non-null    float64\n",
            " 29  concave points_worst     569 non-null    float64\n",
            " 30  symmetry_worst           569 non-null    float64\n",
            " 31  fractal_dimension_worst  569 non-null    float64\n",
            " 32  Unnamed: 32              0 non-null      float64\n",
            "dtypes: float64(31), int64(1), object(1)\n",
            "memory usage: 146.8+ KB\n"
          ]
        }
      ],
      "source": [
        "raw_df.info()"
      ]
    },
    {
      "cell_type": "markdown",
      "id": "7a6ed400",
      "metadata": {
        "id": "7a6ed400"
      },
      "source": [
        "While we should be able to fill in missing values for most columns, it might be a good idea to discard the column `Unnamed: 32` where there are no values. We will leave it out later"
      ]
    },
    {
      "cell_type": "code",
      "execution_count": null,
      "id": "4985c95f",
      "metadata": {
        "id": "4985c95f",
        "outputId": "675cc41f-122b-46ad-85c7-01a23da69d12"
      },
      "outputs": [
        {
          "data": {
            "text/plain": [
              "Index(['id', 'diagnosis', 'radius_mean', 'texture_mean', 'perimeter_mean',\n",
              "       'area_mean', 'smoothness_mean', 'compactness_mean', 'concavity_mean',\n",
              "       'concave points_mean', 'symmetry_mean', 'fractal_dimension_mean',\n",
              "       'radius_se', 'texture_se', 'perimeter_se', 'area_se', 'smoothness_se',\n",
              "       'compactness_se', 'concavity_se', 'concave points_se', 'symmetry_se',\n",
              "       'fractal_dimension_se', 'radius_worst', 'texture_worst',\n",
              "       'perimeter_worst', 'area_worst', 'smoothness_worst',\n",
              "       'compactness_worst', 'concavity_worst', 'concave points_worst',\n",
              "       'symmetry_worst', 'fractal_dimension_worst', 'Unnamed: 32'],\n",
              "      dtype='object')"
            ]
          },
          "execution_count": 17,
          "metadata": {},
          "output_type": "execute_result"
        }
      ],
      "source": [
        "raw_df.columns"
      ]
    },
    {
      "cell_type": "markdown",
      "id": "fae1e2f5",
      "metadata": {
        "id": "fae1e2f5"
      },
      "source": [
        "## Exploratory Data Analysis and Visualization\n",
        "\n",
        "Before training a machine learning model, its always a good idea to explore the distributions of various columns and see how they are related to the target column. Let's explore and visualize the data using the Plotly, Matplotlib and Seaborn libraries. Follow these tutorials to learn how to use these libraries:\n",
        "\n",
        "- https://jovian.ai/aakashns/python-matplotlib-data-visualization\n",
        "- https://jovian.ai/aakashns/interactive-visualization-plotly\n",
        "- https://jovian.ai/aakashns/dataviz-cheatsheet"
      ]
    },
    {
      "cell_type": "code",
      "execution_count": null,
      "id": "2d8b9170",
      "metadata": {
        "id": "2d8b9170"
      },
      "outputs": [],
      "source": [
        "!pip install plotly matplotlib seaborn --quiet"
      ]
    },
    {
      "cell_type": "code",
      "execution_count": null,
      "id": "0acf7501",
      "metadata": {
        "id": "0acf7501"
      },
      "outputs": [],
      "source": [
        "import plotly.express as px\n",
        "import matplotlib\n",
        "import matplotlib.pyplot as plt\n",
        "import matplotlib.patches as mpatches\n",
        "import seaborn as sns\n",
        "%matplotlib inline\n",
        "\n",
        "sns.set_style('darkgrid')\n",
        "matplotlib.rcParams['font.size'] = 14\n",
        "matplotlib.rcParams['figure.figsize'] = (10, 6)\n",
        "matplotlib.rcParams['figure.facecolor'] = '#00000000'"
      ]
    },
    {
      "cell_type": "markdown",
      "id": "ffb7203e",
      "metadata": {
        "id": "ffb7203e"
      },
      "source": [
        "### Diagnosis\n",
        "\n",
        "Let's look at the spread of the diagnosis i.e. the share of benign and malignant in our dataset"
      ]
    },
    {
      "cell_type": "code",
      "execution_count": null,
      "id": "4e9d0204",
      "metadata": {
        "id": "4e9d0204",
        "outputId": "462522df-e350-40c2-d33c-d6d221e20e27"
      },
      "outputs": [
        {
          "data": {
            "image/png": "[encoded data removed]",
            "text/plain": [
              "<Figure size 1080x648 with 1 Axes>"
            ]
          },
          "metadata": {},
          "output_type": "display_data"
        }
      ],
      "source": [
        "plt.figure(figsize = (15,9))\n",
        "plt.pie(raw_df.diagnosis.value_counts(),explode = (0.0, 0.0), \n",
        "        labels = raw_df.diagnosis.value_counts().index, autopct = '%1.1f%%', startangle= 180)\n",
        "plt.title('% that is benign or malignant')\n",
        "\n",
        "one = mpatches.Patch(facecolor='Blue', label='Benign', linewidth = 0.5, edgecolor = 'black')\n",
        "two = mpatches.Patch(facecolor='#ff9700', label = 'Malignant', linewidth = 0.5, edgecolor = 'black')\n",
        "\n",
        "plt.legend(handles = [one,two], title = 'Legend', loc = 1, fontsize = 'small');"
      ]
    },
    {
      "cell_type": "markdown",
      "id": "bde9018d",
      "metadata": {
        "id": "bde9018d"
      },
      "source": [
        "Based off the plot, 62.7% of the observed tumours are \"benign\" (noncancerous) while 37.3% are \"malignant\" (cancerous)"
      ]
    },
    {
      "cell_type": "markdown",
      "id": "ba23847f",
      "metadata": {
        "id": "ba23847f"
      },
      "source": [
        "Let's save our work before continuing."
      ]
    },
    {
      "cell_type": "code",
      "execution_count": null,
      "id": "1521b167",
      "metadata": {
        "id": "1521b167",
        "outputId": "462a4d52-8a43-40ad-bd44-30e2723436f1"
      },
      "outputs": [
        {
          "data": {
            "application/javascript": [
              "window.require && require([\"base/js/namespace\"],function(Jupyter){Jupyter.notebook.save_checkpoint()})"
            ],
            "text/plain": [
              "<IPython.core.display.Javascript object>"
            ]
          },
          "metadata": {},
          "output_type": "display_data"
        },
        {
          "name": "stdout",
          "output_type": "stream",
          "text": [
            "[jovian] Updating notebook \"mitchell-odili/breast-cancer-wisconsin-diagnostics\" on https://jovian.ai/\u001b[0m\n",
            "[jovian] Committed successfully! https://jovian.ai/mitchell-odili/breast-cancer-wisconsin-diagnostics\u001b[0m\n"
          ]
        },
        {
          "data": {
            "text/plain": [
              "'https://jovian.ai/mitchell-odili/breast-cancer-wisconsin-diagnostics'"
            ]
          },
          "execution_count": 21,
          "metadata": {},
          "output_type": "execute_result"
        }
      ],
      "source": [
        "jovian.commit()"
      ]
    },
    {
      "cell_type": "markdown",
      "id": "5a44d0ac",
      "metadata": {
        "id": "5a44d0ac"
      },
      "source": [
        "## (Optional) Working with a Sample\n",
        "\n",
        "When working with massive datasets containing millions of rows, it's a good idea to work with a sample initially, to quickly set up your model training notebook. If you'd like to work with a sample, just set the value of `use_sample` to `True`."
      ]
    },
    {
      "cell_type": "code",
      "execution_count": null,
      "id": "d6ef4b29",
      "metadata": {
        "id": "d6ef4b29"
      },
      "outputs": [],
      "source": [
        "use_sample = False"
      ]
    },
    {
      "cell_type": "code",
      "execution_count": null,
      "id": "50b330a4",
      "metadata": {
        "id": "50b330a4"
      },
      "outputs": [],
      "source": [
        "sample_fraction = 0.1"
      ]
    },
    {
      "cell_type": "code",
      "execution_count": null,
      "id": "60cd6670",
      "metadata": {
        "id": "60cd6670"
      },
      "outputs": [],
      "source": [
        "if use_sample:\n",
        "    raw_df = raw_df.sample(frac=sample_fraction).copy()"
      ]
    },
    {
      "cell_type": "markdown",
      "id": "7b8e9a98",
      "metadata": {
        "id": "7b8e9a98"
      },
      "source": [
        "Make sure to set `use_sample` to `False` and re-run the notebook end-to-end once you're ready to use the entire dataset."
      ]
    },
    {
      "cell_type": "markdown",
      "id": "fe18f0cf",
      "metadata": {
        "id": "fe18f0cf"
      },
      "source": [
        "## Training, Validation and Test Sets\n",
        "\n",
        "While building real-world machine learning models, it is quite common to split the dataset into three parts:\n",
        "\n",
        "1. **Training set** - used to train the model, i.e., compute the loss and adjust the model's weights using an optimization technique. \n",
        "\n",
        "\n",
        "2. **Validation set** - used to evaluate the model during training, tune model hyperparameters (optimization technique, regularization etc.), and pick the best version of the model. Picking a good validation set is essential for training models that generalize well. [Learn more here.](https://www.fast.ai/2017/11/13/validation-sets/)\n",
        "\n",
        "\n",
        "3. **Test set** - used to compare different models or approaches and report the model's final accuracy. For many datasets, test sets are provided separately. The test set should reflect the kind of data the model will encounter in the real-world, as closely as feasible.\n",
        "\n",
        "\n",
        "<img src=\"https://i.imgur.com/j8eITrK.png\" width=\"480\">\n",
        "\n",
        "\n",
        "As a general rule of thumb you can use around 60% of the data for the training set, 20% for the validation set and 20% for the test set. If a separate test set is already provided, you can use a 75%-25% training-validation split.\n",
        "\n",
        "\n",
        "When rows in the dataset have no inherent order, it's common practice to pick random subsets of rows for creating test and validation sets. This can be done using the `train_test_split` utility from `scikit-learn`. Learn more about it here: https://scikit-learn.org/stable/modules/generated/sklearn.model_selection.train_test_split.html"
      ]
    },
    {
      "cell_type": "code",
      "execution_count": null,
      "id": "cc4cb15f",
      "metadata": {
        "id": "cc4cb15f"
      },
      "outputs": [],
      "source": [
        "!pip install scikit-learn --upgrade --quiet"
      ]
    },
    {
      "cell_type": "code",
      "execution_count": null,
      "id": "680543b2",
      "metadata": {
        "id": "680543b2"
      },
      "outputs": [],
      "source": [
        "from sklearn.model_selection import train_test_split"
      ]
    },
    {
      "cell_type": "code",
      "execution_count": null,
      "id": "ec2587db",
      "metadata": {
        "id": "ec2587db"
      },
      "outputs": [],
      "source": [
        "train_val, test_df = train_test_split(raw_df, test_size = 0.2, random_state = 42)\n",
        "train_df, val_df = train_test_split(train_val, test_size = 0.25, random_state = 42)"
      ]
    },
    {
      "cell_type": "code",
      "execution_count": null,
      "id": "46f47a80",
      "metadata": {
        "id": "46f47a80",
        "outputId": "e78c4cec-2018-40c7-9250-4bc83122304e"
      },
      "outputs": [
        {
          "name": "stdout",
          "output_type": "stream",
          "text": [
            "train_df.shape : (341, 33)\n",
            "val_df.shape : (114, 33)\n",
            "test_df.shape : (114, 33)\n"
          ]
        }
      ],
      "source": [
        "print('train_df.shape :', train_df.shape)\n",
        "print('val_df.shape :', val_df.shape)\n",
        "print('test_df.shape :', test_df.shape)"
      ]
    },
    {
      "cell_type": "markdown",
      "id": "1d3d01b7",
      "metadata": {
        "id": "1d3d01b7"
      },
      "source": [
        "However, while working with dates, it's often a better idea to separate the training, validation and test sets with time, so that the model is trained on data from the past and evaluated on data from the future."
      ]
    },
    {
      "cell_type": "markdown",
      "id": "47a29e30",
      "metadata": {
        "id": "47a29e30"
      },
      "source": [
        "Let's save our work before continuing."
      ]
    },
    {
      "cell_type": "code",
      "execution_count": null,
      "id": "fca7b599",
      "metadata": {
        "id": "fca7b599",
        "outputId": "2bfe1151-7780-46a2-f860-501ddc39ce3b"
      },
      "outputs": [
        {
          "data": {
            "application/javascript": [
              "window.require && require([\"base/js/namespace\"],function(Jupyter){Jupyter.notebook.save_checkpoint()})"
            ],
            "text/plain": [
              "<IPython.core.display.Javascript object>"
            ]
          },
          "metadata": {},
          "output_type": "display_data"
        },
        {
          "name": "stdout",
          "output_type": "stream",
          "text": [
            "[jovian] Updating notebook \"mitchell-odili/breast-cancer-wisconsin-diagnostics\" on https://jovian.ai/\u001b[0m\n",
            "[jovian] Committed successfully! https://jovian.ai/mitchell-odili/breast-cancer-wisconsin-diagnostics\u001b[0m\n"
          ]
        },
        {
          "data": {
            "text/plain": [
              "'https://jovian.ai/mitchell-odili/breast-cancer-wisconsin-diagnostics'"
            ]
          },
          "execution_count": 29,
          "metadata": {},
          "output_type": "execute_result"
        }
      ],
      "source": [
        "jovian.commit()"
      ]
    },
    {
      "cell_type": "markdown",
      "id": "a7d86f6b",
      "metadata": {
        "id": "a7d86f6b"
      },
      "source": [
        "### Identifying Input and Target Columns\n",
        "\n",
        "Often, not all the columns in a dataset are useful for training a model. In the current dataset, we can ignore the `Id` column, to make a prediction about whether a tumour is benign or malignant.\n",
        "\n",
        "Let's create a list of input columns, and also identify the target column."
      ]
    },
    {
      "cell_type": "code",
      "execution_count": null,
      "id": "51936d18",
      "metadata": {
        "id": "51936d18"
      },
      "outputs": [],
      "source": [
        "input_cols = list(train_df.columns)[2:-1]\n",
        "target_col = 'diagnosis'"
      ]
    },
    {
      "cell_type": "code",
      "execution_count": null,
      "id": "d51e3037",
      "metadata": {
        "id": "d51e3037",
        "outputId": "4d7c4570-e6a9-4865-8b35-b57368a5af01"
      },
      "outputs": [
        {
          "name": "stdout",
          "output_type": "stream",
          "text": [
            "['radius_mean', 'texture_mean', 'perimeter_mean', 'area_mean', 'smoothness_mean', 'compactness_mean', 'concavity_mean', 'concave points_mean', 'symmetry_mean', 'fractal_dimension_mean', 'radius_se', 'texture_se', 'perimeter_se', 'area_se', 'smoothness_se', 'compactness_se', 'concavity_se', 'concave points_se', 'symmetry_se', 'fractal_dimension_se', 'radius_worst', 'texture_worst', 'perimeter_worst', 'area_worst', 'smoothness_worst', 'compactness_worst', 'concavity_worst', 'concave points_worst', 'symmetry_worst', 'fractal_dimension_worst']\n"
          ]
        }
      ],
      "source": [
        "print(input_cols)"
      ]
    },
    {
      "cell_type": "code",
      "execution_count": null,
      "id": "0c0de000",
      "metadata": {
        "id": "0c0de000",
        "outputId": "e9354239-3bca-4c53-cb98-1b6540e86355"
      },
      "outputs": [
        {
          "data": {
            "text/plain": [
              "'diagnosis'"
            ]
          },
          "execution_count": 32,
          "metadata": {},
          "output_type": "execute_result"
        }
      ],
      "source": [
        "target_col"
      ]
    },
    {
      "cell_type": "markdown",
      "id": "a12c650d",
      "metadata": {
        "id": "a12c650d"
      },
      "source": [
        "We can now create inputs and targets for the training, validation and test sets for further processing and model training."
      ]
    },
    {
      "cell_type": "code",
      "execution_count": null,
      "id": "edb6272d",
      "metadata": {
        "id": "edb6272d"
      },
      "outputs": [],
      "source": [
        "train_inputs = train_df[input_cols].copy()\n",
        "train_target = train_df[target_col].copy()"
      ]
    },
    {
      "cell_type": "code",
      "execution_count": null,
      "id": "8cf6adc8",
      "metadata": {
        "id": "8cf6adc8"
      },
      "outputs": [],
      "source": [
        "val_inputs = val_df[input_cols].copy()\n",
        "val_target = val_df[target_col].copy()"
      ]
    },
    {
      "cell_type": "code",
      "execution_count": null,
      "id": "b8456c36",
      "metadata": {
        "id": "b8456c36"
      },
      "outputs": [],
      "source": [
        "test_inputs = test_df[input_cols].copy()\n",
        "test_target = test_df[target_col].copy()"
      ]
    },
    {
      "cell_type": "code",
      "execution_count": null,
      "id": "5a469393",
      "metadata": {
        "id": "5a469393",
        "outputId": "24a18d3c-e424-49d4-d3dc-9e0a47b830e9"
      },
      "outputs": [
        {
          "data": {
            "text/html": [
              "<div>\n",
              "<style scoped>\n",
              "    .dataframe tbody tr th:only-of-type {\n",
              "        vertical-align: middle;\n",
              "    }\n",
              "\n",
              "    .dataframe tbody tr th {\n",
              "        vertical-align: top;\n",
              "    }\n",
              "\n",
              "    .dataframe thead th {\n",
              "        text-align: right;\n",
              "    }\n",
              "</style>\n",
              "<table border=\"1\" class=\"dataframe\">\n",
              "  <thead>\n",
              "    <tr style=\"text-align: right;\">\n",
              "      <th></th>\n",
              "      <th>radius_mean</th>\n",
              "      <th>texture_mean</th>\n",
              "      <th>perimeter_mean</th>\n",
              "      <th>area_mean</th>\n",
              "      <th>smoothness_mean</th>\n",
              "      <th>compactness_mean</th>\n",
              "      <th>concavity_mean</th>\n",
              "      <th>concave points_mean</th>\n",
              "      <th>symmetry_mean</th>\n",
              "      <th>fractal_dimension_mean</th>\n",
              "      <th>...</th>\n",
              "      <th>radius_worst</th>\n",
              "      <th>texture_worst</th>\n",
              "      <th>perimeter_worst</th>\n",
              "      <th>area_worst</th>\n",
              "      <th>smoothness_worst</th>\n",
              "      <th>compactness_worst</th>\n",
              "      <th>concavity_worst</th>\n",
              "      <th>concave points_worst</th>\n",
              "      <th>symmetry_worst</th>\n",
              "      <th>fractal_dimension_worst</th>\n",
              "    </tr>\n",
              "  </thead>\n",
              "  <tbody>\n",
              "    <tr>\n",
              "      <th>217</th>\n",
              "      <td>10.200</td>\n",
              "      <td>17.48</td>\n",
              "      <td>65.05</td>\n",
              "      <td>321.2</td>\n",
              "      <td>0.08054</td>\n",
              "      <td>0.05907</td>\n",
              "      <td>0.05774</td>\n",
              "      <td>0.01071</td>\n",
              "      <td>0.1964</td>\n",
              "      <td>0.06315</td>\n",
              "      <td>...</td>\n",
              "      <td>11.48</td>\n",
              "      <td>24.47</td>\n",
              "      <td>75.40</td>\n",
              "      <td>403.7</td>\n",
              "      <td>0.09527</td>\n",
              "      <td>0.1397</td>\n",
              "      <td>0.19250</td>\n",
              "      <td>0.03571</td>\n",
              "      <td>0.2868</td>\n",
              "      <td>0.07809</td>\n",
              "    </tr>\n",
              "    <tr>\n",
              "      <th>283</th>\n",
              "      <td>16.240</td>\n",
              "      <td>18.77</td>\n",
              "      <td>108.80</td>\n",
              "      <td>805.1</td>\n",
              "      <td>0.10660</td>\n",
              "      <td>0.18020</td>\n",
              "      <td>0.19480</td>\n",
              "      <td>0.09052</td>\n",
              "      <td>0.1876</td>\n",
              "      <td>0.06684</td>\n",
              "      <td>...</td>\n",
              "      <td>18.55</td>\n",
              "      <td>25.09</td>\n",
              "      <td>126.90</td>\n",
              "      <td>1031.0</td>\n",
              "      <td>0.13650</td>\n",
              "      <td>0.4706</td>\n",
              "      <td>0.50260</td>\n",
              "      <td>0.17320</td>\n",
              "      <td>0.2770</td>\n",
              "      <td>0.10630</td>\n",
              "    </tr>\n",
              "    <tr>\n",
              "      <th>0</th>\n",
              "      <td>17.990</td>\n",
              "      <td>10.38</td>\n",
              "      <td>122.80</td>\n",
              "      <td>1001.0</td>\n",
              "      <td>0.11840</td>\n",
              "      <td>0.27760</td>\n",
              "      <td>0.30010</td>\n",
              "      <td>0.14710</td>\n",
              "      <td>0.2419</td>\n",
              "      <td>0.07871</td>\n",
              "      <td>...</td>\n",
              "      <td>25.38</td>\n",
              "      <td>17.33</td>\n",
              "      <td>184.60</td>\n",
              "      <td>2019.0</td>\n",
              "      <td>0.16220</td>\n",
              "      <td>0.6656</td>\n",
              "      <td>0.71190</td>\n",
              "      <td>0.26540</td>\n",
              "      <td>0.4601</td>\n",
              "      <td>0.11890</td>\n",
              "    </tr>\n",
              "    <tr>\n",
              "      <th>504</th>\n",
              "      <td>9.268</td>\n",
              "      <td>12.87</td>\n",
              "      <td>61.49</td>\n",
              "      <td>248.7</td>\n",
              "      <td>0.16340</td>\n",
              "      <td>0.22390</td>\n",
              "      <td>0.09730</td>\n",
              "      <td>0.05252</td>\n",
              "      <td>0.2378</td>\n",
              "      <td>0.09502</td>\n",
              "      <td>...</td>\n",
              "      <td>10.28</td>\n",
              "      <td>16.38</td>\n",
              "      <td>69.05</td>\n",
              "      <td>300.2</td>\n",
              "      <td>0.19020</td>\n",
              "      <td>0.3441</td>\n",
              "      <td>0.20990</td>\n",
              "      <td>0.10250</td>\n",
              "      <td>0.3038</td>\n",
              "      <td>0.12520</td>\n",
              "    </tr>\n",
              "    <tr>\n",
              "      <th>251</th>\n",
              "      <td>11.500</td>\n",
              "      <td>18.45</td>\n",
              "      <td>73.28</td>\n",
              "      <td>407.4</td>\n",
              "      <td>0.09345</td>\n",
              "      <td>0.05991</td>\n",
              "      <td>0.02638</td>\n",
              "      <td>0.02069</td>\n",
              "      <td>0.1834</td>\n",
              "      <td>0.05934</td>\n",
              "      <td>...</td>\n",
              "      <td>12.97</td>\n",
              "      <td>22.46</td>\n",
              "      <td>83.12</td>\n",
              "      <td>508.9</td>\n",
              "      <td>0.11830</td>\n",
              "      <td>0.1049</td>\n",
              "      <td>0.08105</td>\n",
              "      <td>0.06544</td>\n",
              "      <td>0.2740</td>\n",
              "      <td>0.06487</td>\n",
              "    </tr>\n",
              "    <tr>\n",
              "      <th>...</th>\n",
              "      <td>...</td>\n",
              "      <td>...</td>\n",
              "      <td>...</td>\n",
              "      <td>...</td>\n",
              "      <td>...</td>\n",
              "      <td>...</td>\n",
              "      <td>...</td>\n",
              "      <td>...</td>\n",
              "      <td>...</td>\n",
              "      <td>...</td>\n",
              "      <td>...</td>\n",
              "      <td>...</td>\n",
              "      <td>...</td>\n",
              "      <td>...</td>\n",
              "      <td>...</td>\n",
              "      <td>...</td>\n",
              "      <td>...</td>\n",
              "      <td>...</td>\n",
              "      <td>...</td>\n",
              "      <td>...</td>\n",
              "      <td>...</td>\n",
              "    </tr>\n",
              "    <tr>\n",
              "      <th>57</th>\n",
              "      <td>14.710</td>\n",
              "      <td>21.59</td>\n",
              "      <td>95.55</td>\n",
              "      <td>656.9</td>\n",
              "      <td>0.11370</td>\n",
              "      <td>0.13650</td>\n",
              "      <td>0.12930</td>\n",
              "      <td>0.08123</td>\n",
              "      <td>0.2027</td>\n",
              "      <td>0.06758</td>\n",
              "      <td>...</td>\n",
              "      <td>17.87</td>\n",
              "      <td>30.70</td>\n",
              "      <td>115.70</td>\n",
              "      <td>985.5</td>\n",
              "      <td>0.13680</td>\n",
              "      <td>0.4290</td>\n",
              "      <td>0.35870</td>\n",
              "      <td>0.18340</td>\n",
              "      <td>0.3698</td>\n",
              "      <td>0.10940</td>\n",
              "    </tr>\n",
              "    <tr>\n",
              "      <th>492</th>\n",
              "      <td>18.010</td>\n",
              "      <td>20.56</td>\n",
              "      <td>118.40</td>\n",
              "      <td>1007.0</td>\n",
              "      <td>0.10010</td>\n",
              "      <td>0.12890</td>\n",
              "      <td>0.11700</td>\n",
              "      <td>0.07762</td>\n",
              "      <td>0.2116</td>\n",
              "      <td>0.06077</td>\n",
              "      <td>...</td>\n",
              "      <td>21.53</td>\n",
              "      <td>26.06</td>\n",
              "      <td>143.40</td>\n",
              "      <td>1426.0</td>\n",
              "      <td>0.13090</td>\n",
              "      <td>0.2327</td>\n",
              "      <td>0.25440</td>\n",
              "      <td>0.14890</td>\n",
              "      <td>0.3251</td>\n",
              "      <td>0.07625</td>\n",
              "    </tr>\n",
              "    <tr>\n",
              "      <th>418</th>\n",
              "      <td>12.700</td>\n",
              "      <td>12.17</td>\n",
              "      <td>80.88</td>\n",
              "      <td>495.0</td>\n",
              "      <td>0.08785</td>\n",
              "      <td>0.05794</td>\n",
              "      <td>0.02360</td>\n",
              "      <td>0.02402</td>\n",
              "      <td>0.1583</td>\n",
              "      <td>0.06275</td>\n",
              "      <td>...</td>\n",
              "      <td>13.65</td>\n",
              "      <td>16.92</td>\n",
              "      <td>88.12</td>\n",
              "      <td>566.9</td>\n",
              "      <td>0.13140</td>\n",
              "      <td>0.1607</td>\n",
              "      <td>0.09385</td>\n",
              "      <td>0.08224</td>\n",
              "      <td>0.2775</td>\n",
              "      <td>0.09464</td>\n",
              "    </tr>\n",
              "    <tr>\n",
              "      <th>385</th>\n",
              "      <td>14.600</td>\n",
              "      <td>23.29</td>\n",
              "      <td>93.97</td>\n",
              "      <td>664.7</td>\n",
              "      <td>0.08682</td>\n",
              "      <td>0.06636</td>\n",
              "      <td>0.08390</td>\n",
              "      <td>0.05271</td>\n",
              "      <td>0.1627</td>\n",
              "      <td>0.05416</td>\n",
              "      <td>...</td>\n",
              "      <td>15.79</td>\n",
              "      <td>31.71</td>\n",
              "      <td>102.20</td>\n",
              "      <td>758.2</td>\n",
              "      <td>0.13120</td>\n",
              "      <td>0.1581</td>\n",
              "      <td>0.26750</td>\n",
              "      <td>0.13590</td>\n",
              "      <td>0.2477</td>\n",
              "      <td>0.06836</td>\n",
              "    </tr>\n",
              "    <tr>\n",
              "      <th>325</th>\n",
              "      <td>12.670</td>\n",
              "      <td>17.30</td>\n",
              "      <td>81.25</td>\n",
              "      <td>489.9</td>\n",
              "      <td>0.10280</td>\n",
              "      <td>0.07664</td>\n",
              "      <td>0.03193</td>\n",
              "      <td>0.02107</td>\n",
              "      <td>0.1707</td>\n",
              "      <td>0.05984</td>\n",
              "      <td>...</td>\n",
              "      <td>13.71</td>\n",
              "      <td>21.10</td>\n",
              "      <td>88.70</td>\n",
              "      <td>574.4</td>\n",
              "      <td>0.13840</td>\n",
              "      <td>0.1212</td>\n",
              "      <td>0.10200</td>\n",
              "      <td>0.05602</td>\n",
              "      <td>0.2688</td>\n",
              "      <td>0.06888</td>\n",
              "    </tr>\n",
              "  </tbody>\n",
              "</table>\n",
              "<p>341 rows × 30 columns</p>\n",
              "</div>"
            ],
            "text/plain": [
              "     radius_mean  texture_mean  perimeter_mean  area_mean  smoothness_mean  \\\n",
              "217       10.200         17.48           65.05      321.2          0.08054   \n",
              "283       16.240         18.77          108.80      805.1          0.10660   \n",
              "0         17.990         10.38          122.80     1001.0          0.11840   \n",
              "504        9.268         12.87           61.49      248.7          0.16340   \n",
              "251       11.500         18.45           73.28      407.4          0.09345   \n",
              "..           ...           ...             ...        ...              ...   \n",
              "57        14.710         21.59           95.55      656.9          0.11370   \n",
              "492       18.010         20.56          118.40     1007.0          0.10010   \n",
              "418       12.700         12.17           80.88      495.0          0.08785   \n",
              "385       14.600         23.29           93.97      664.7          0.08682   \n",
              "325       12.670         17.30           81.25      489.9          0.10280   \n",
              "\n",
              "     compactness_mean  concavity_mean  concave points_mean  symmetry_mean  \\\n",
              "217           0.05907         0.05774              0.01071         0.1964   \n",
              "283           0.18020         0.19480              0.09052         0.1876   \n",
              "0             0.27760         0.30010              0.14710         0.2419   \n",
              "504           0.22390         0.09730              0.05252         0.2378   \n",
              "251           0.05991         0.02638              0.02069         0.1834   \n",
              "..                ...             ...                  ...            ...   \n",
              "57            0.13650         0.12930              0.08123         0.2027   \n",
              "492           0.12890         0.11700              0.07762         0.2116   \n",
              "418           0.05794         0.02360              0.02402         0.1583   \n",
              "385           0.06636         0.08390              0.05271         0.1627   \n",
              "325           0.07664         0.03193              0.02107         0.1707   \n",
              "\n",
              "     fractal_dimension_mean  ...  radius_worst  texture_worst  \\\n",
              "217                 0.06315  ...         11.48          24.47   \n",
              "283                 0.06684  ...         18.55          25.09   \n",
              "0                   0.07871  ...         25.38          17.33   \n",
              "504                 0.09502  ...         10.28          16.38   \n",
              "251                 0.05934  ...         12.97          22.46   \n",
              "..                      ...  ...           ...            ...   \n",
              "57                  0.06758  ...         17.87          30.70   \n",
              "492                 0.06077  ...         21.53          26.06   \n",
              "418                 0.06275  ...         13.65          16.92   \n",
              "385                 0.05416  ...         15.79          31.71   \n",
              "325                 0.05984  ...         13.71          21.10   \n",
              "\n",
              "     perimeter_worst  area_worst  smoothness_worst  compactness_worst  \\\n",
              "217            75.40       403.7           0.09527             0.1397   \n",
              "283           126.90      1031.0           0.13650             0.4706   \n",
              "0             184.60      2019.0           0.16220             0.6656   \n",
              "504            69.05       300.2           0.19020             0.3441   \n",
              "251            83.12       508.9           0.11830             0.1049   \n",
              "..               ...         ...               ...                ...   \n",
              "57            115.70       985.5           0.13680             0.4290   \n",
              "492           143.40      1426.0           0.13090             0.2327   \n",
              "418            88.12       566.9           0.13140             0.1607   \n",
              "385           102.20       758.2           0.13120             0.1581   \n",
              "325            88.70       574.4           0.13840             0.1212   \n",
              "\n",
              "     concavity_worst  concave points_worst  symmetry_worst  \\\n",
              "217          0.19250               0.03571          0.2868   \n",
              "283          0.50260               0.17320          0.2770   \n",
              "0            0.71190               0.26540          0.4601   \n",
              "504          0.20990               0.10250          0.3038   \n",
              "251          0.08105               0.06544          0.2740   \n",
              "..               ...                   ...             ...   \n",
              "57           0.35870               0.18340          0.3698   \n",
              "492          0.25440               0.14890          0.3251   \n",
              "418          0.09385               0.08224          0.2775   \n",
              "385          0.26750               0.13590          0.2477   \n",
              "325          0.10200               0.05602          0.2688   \n",
              "\n",
              "     fractal_dimension_worst  \n",
              "217                  0.07809  \n",
              "283                  0.10630  \n",
              "0                    0.11890  \n",
              "504                  0.12520  \n",
              "251                  0.06487  \n",
              "..                       ...  \n",
              "57                   0.10940  \n",
              "492                  0.07625  \n",
              "418                  0.09464  \n",
              "385                  0.06836  \n",
              "325                  0.06888  \n",
              "\n",
              "[341 rows x 30 columns]"
            ]
          },
          "execution_count": 36,
          "metadata": {},
          "output_type": "execute_result"
        }
      ],
      "source": [
        "train_inputs"
      ]
    },
    {
      "cell_type": "code",
      "execution_count": null,
      "id": "3fb8f9b2",
      "metadata": {
        "id": "3fb8f9b2",
        "outputId": "939d7b5f-eb8a-4378-d285-fc8e60402d1f"
      },
      "outputs": [
        {
          "data": {
            "text/plain": [
              "217    B\n",
              "283    M\n",
              "0      M\n",
              "504    B\n",
              "251    B\n",
              "      ..\n",
              "57     M\n",
              "492    M\n",
              "418    B\n",
              "385    M\n",
              "325    B\n",
              "Name: diagnosis, Length: 341, dtype: object"
            ]
          },
          "execution_count": 37,
          "metadata": {},
          "output_type": "execute_result"
        }
      ],
      "source": [
        "train_target"
      ]
    },
    {
      "cell_type": "markdown",
      "id": "95765638",
      "metadata": {
        "id": "95765638"
      },
      "source": [
        "All columns are numerical. We could see from `raw_df.info()`. Alternatively, we could also identify which of the columns are numerical and which ones are categorical. This will be useful later, as we'll need to convert the categorical data to numbers for training a logistic regression model."
      ]
    },
    {
      "cell_type": "code",
      "execution_count": null,
      "id": "caa85306",
      "metadata": {
        "id": "caa85306"
      },
      "outputs": [],
      "source": [
        "!pip install numpy --quiet"
      ]
    },
    {
      "cell_type": "code",
      "execution_count": null,
      "id": "1d3f8fd2",
      "metadata": {
        "id": "1d3f8fd2"
      },
      "outputs": [],
      "source": [
        "import numpy as np"
      ]
    },
    {
      "cell_type": "code",
      "execution_count": null,
      "id": "23c5f0be",
      "metadata": {
        "id": "23c5f0be"
      },
      "outputs": [],
      "source": [
        "numeric_cols = train_inputs.select_dtypes(include=np.number).columns.tolist()\n",
        "categorical_cols = train_inputs.select_dtypes('object').columns.tolist()"
      ]
    },
    {
      "cell_type": "markdown",
      "id": "c8e66559",
      "metadata": {
        "id": "c8e66559"
      },
      "source": [
        "Let's view some statistics for the numeric columns"
      ]
    },
    {
      "cell_type": "code",
      "execution_count": null,
      "id": "771e7087",
      "metadata": {
        "id": "771e7087",
        "outputId": "0b7a252a-0416-47fd-b395-820739f41250"
      },
      "outputs": [
        {
          "data": {
            "text/html": [
              "<div>\n",
              "<style scoped>\n",
              "    .dataframe tbody tr th:only-of-type {\n",
              "        vertical-align: middle;\n",
              "    }\n",
              "\n",
              "    .dataframe tbody tr th {\n",
              "        vertical-align: top;\n",
              "    }\n",
              "\n",
              "    .dataframe thead th {\n",
              "        text-align: right;\n",
              "    }\n",
              "</style>\n",
              "<table border=\"1\" class=\"dataframe\">\n",
              "  <thead>\n",
              "    <tr style=\"text-align: right;\">\n",
              "      <th></th>\n",
              "      <th>radius_mean</th>\n",
              "      <th>texture_mean</th>\n",
              "      <th>perimeter_mean</th>\n",
              "      <th>area_mean</th>\n",
              "      <th>smoothness_mean</th>\n",
              "      <th>compactness_mean</th>\n",
              "      <th>concavity_mean</th>\n",
              "      <th>concave points_mean</th>\n",
              "      <th>symmetry_mean</th>\n",
              "      <th>fractal_dimension_mean</th>\n",
              "      <th>...</th>\n",
              "      <th>radius_worst</th>\n",
              "      <th>texture_worst</th>\n",
              "      <th>perimeter_worst</th>\n",
              "      <th>area_worst</th>\n",
              "      <th>smoothness_worst</th>\n",
              "      <th>compactness_worst</th>\n",
              "      <th>concavity_worst</th>\n",
              "      <th>concave points_worst</th>\n",
              "      <th>symmetry_worst</th>\n",
              "      <th>fractal_dimension_worst</th>\n",
              "    </tr>\n",
              "  </thead>\n",
              "  <tbody>\n",
              "    <tr>\n",
              "      <th>count</th>\n",
              "      <td>341.000000</td>\n",
              "      <td>341.000000</td>\n",
              "      <td>341.000000</td>\n",
              "      <td>341.000000</td>\n",
              "      <td>341.000000</td>\n",
              "      <td>341.000000</td>\n",
              "      <td>341.000000</td>\n",
              "      <td>341.000000</td>\n",
              "      <td>341.000000</td>\n",
              "      <td>341.000000</td>\n",
              "      <td>...</td>\n",
              "      <td>341.000000</td>\n",
              "      <td>341.000000</td>\n",
              "      <td>341.000000</td>\n",
              "      <td>341.000000</td>\n",
              "      <td>341.000000</td>\n",
              "      <td>341.000000</td>\n",
              "      <td>341.000000</td>\n",
              "      <td>341.000000</td>\n",
              "      <td>341.000000</td>\n",
              "      <td>341.000000</td>\n",
              "    </tr>\n",
              "    <tr>\n",
              "      <th>mean</th>\n",
              "      <td>14.001481</td>\n",
              "      <td>19.128152</td>\n",
              "      <td>91.030762</td>\n",
              "      <td>642.609971</td>\n",
              "      <td>0.095934</td>\n",
              "      <td>0.102269</td>\n",
              "      <td>0.085459</td>\n",
              "      <td>0.047155</td>\n",
              "      <td>0.182006</td>\n",
              "      <td>0.062750</td>\n",
              "      <td>...</td>\n",
              "      <td>16.125613</td>\n",
              "      <td>25.465279</td>\n",
              "      <td>106.273167</td>\n",
              "      <td>866.555132</td>\n",
              "      <td>0.131554</td>\n",
              "      <td>0.248931</td>\n",
              "      <td>0.264040</td>\n",
              "      <td>0.112563</td>\n",
              "      <td>0.291753</td>\n",
              "      <td>0.083672</td>\n",
              "    </tr>\n",
              "    <tr>\n",
              "      <th>std</th>\n",
              "      <td>3.473378</td>\n",
              "      <td>4.197569</td>\n",
              "      <td>23.904744</td>\n",
              "      <td>345.479971</td>\n",
              "      <td>0.014450</td>\n",
              "      <td>0.053894</td>\n",
              "      <td>0.079140</td>\n",
              "      <td>0.038212</td>\n",
              "      <td>0.028181</td>\n",
              "      <td>0.007412</td>\n",
              "      <td>...</td>\n",
              "      <td>4.845435</td>\n",
              "      <td>5.977085</td>\n",
              "      <td>33.660162</td>\n",
              "      <td>578.566377</td>\n",
              "      <td>0.023416</td>\n",
              "      <td>0.157138</td>\n",
              "      <td>0.201125</td>\n",
              "      <td>0.066265</td>\n",
              "      <td>0.064154</td>\n",
              "      <td>0.018026</td>\n",
              "    </tr>\n",
              "    <tr>\n",
              "      <th>min</th>\n",
              "      <td>7.691000</td>\n",
              "      <td>9.710000</td>\n",
              "      <td>47.920000</td>\n",
              "      <td>170.400000</td>\n",
              "      <td>0.052630</td>\n",
              "      <td>0.019380</td>\n",
              "      <td>0.000000</td>\n",
              "      <td>0.000000</td>\n",
              "      <td>0.116700</td>\n",
              "      <td>0.049960</td>\n",
              "      <td>...</td>\n",
              "      <td>8.678000</td>\n",
              "      <td>12.020000</td>\n",
              "      <td>54.490000</td>\n",
              "      <td>223.600000</td>\n",
              "      <td>0.081250</td>\n",
              "      <td>0.034320</td>\n",
              "      <td>0.000000</td>\n",
              "      <td>0.000000</td>\n",
              "      <td>0.156500</td>\n",
              "      <td>0.055040</td>\n",
              "    </tr>\n",
              "    <tr>\n",
              "      <th>25%</th>\n",
              "      <td>11.630000</td>\n",
              "      <td>16.320000</td>\n",
              "      <td>74.680000</td>\n",
              "      <td>412.600000</td>\n",
              "      <td>0.085820</td>\n",
              "      <td>0.061590</td>\n",
              "      <td>0.026380</td>\n",
              "      <td>0.019240</td>\n",
              "      <td>0.162000</td>\n",
              "      <td>0.057630</td>\n",
              "      <td>...</td>\n",
              "      <td>12.980000</td>\n",
              "      <td>21.180000</td>\n",
              "      <td>83.610000</td>\n",
              "      <td>513.900000</td>\n",
              "      <td>0.114000</td>\n",
              "      <td>0.138100</td>\n",
              "      <td>0.108700</td>\n",
              "      <td>0.062960</td>\n",
              "      <td>0.252500</td>\n",
              "      <td>0.070710</td>\n",
              "    </tr>\n",
              "    <tr>\n",
              "      <th>50%</th>\n",
              "      <td>13.200000</td>\n",
              "      <td>18.820000</td>\n",
              "      <td>85.480000</td>\n",
              "      <td>538.400000</td>\n",
              "      <td>0.094400</td>\n",
              "      <td>0.086420</td>\n",
              "      <td>0.057740</td>\n",
              "      <td>0.032500</td>\n",
              "      <td>0.179900</td>\n",
              "      <td>0.061660</td>\n",
              "      <td>...</td>\n",
              "      <td>14.910000</td>\n",
              "      <td>25.220000</td>\n",
              "      <td>97.170000</td>\n",
              "      <td>674.700000</td>\n",
              "      <td>0.130300</td>\n",
              "      <td>0.205700</td>\n",
              "      <td>0.215100</td>\n",
              "      <td>0.098610</td>\n",
              "      <td>0.284100</td>\n",
              "      <td>0.079610</td>\n",
              "    </tr>\n",
              "    <tr>\n",
              "      <th>75%</th>\n",
              "      <td>15.660000</td>\n",
              "      <td>21.560000</td>\n",
              "      <td>102.800000</td>\n",
              "      <td>758.600000</td>\n",
              "      <td>0.104900</td>\n",
              "      <td>0.129900</td>\n",
              "      <td>0.121800</td>\n",
              "      <td>0.067720</td>\n",
              "      <td>0.196600</td>\n",
              "      <td>0.066010</td>\n",
              "      <td>...</td>\n",
              "      <td>18.100000</td>\n",
              "      <td>29.410000</td>\n",
              "      <td>122.400000</td>\n",
              "      <td>1021.000000</td>\n",
              "      <td>0.146000</td>\n",
              "      <td>0.341600</td>\n",
              "      <td>0.375900</td>\n",
              "      <td>0.156500</td>\n",
              "      <td>0.317600</td>\n",
              "      <td>0.092060</td>\n",
              "    </tr>\n",
              "    <tr>\n",
              "      <th>max</th>\n",
              "      <td>27.420000</td>\n",
              "      <td>39.280000</td>\n",
              "      <td>186.900000</td>\n",
              "      <td>2501.000000</td>\n",
              "      <td>0.163400</td>\n",
              "      <td>0.311400</td>\n",
              "      <td>0.426800</td>\n",
              "      <td>0.201200</td>\n",
              "      <td>0.274300</td>\n",
              "      <td>0.097440</td>\n",
              "      <td>...</td>\n",
              "      <td>36.040000</td>\n",
              "      <td>49.540000</td>\n",
              "      <td>251.200000</td>\n",
              "      <td>4254.000000</td>\n",
              "      <td>0.218400</td>\n",
              "      <td>0.937900</td>\n",
              "      <td>0.960800</td>\n",
              "      <td>0.291000</td>\n",
              "      <td>0.663800</td>\n",
              "      <td>0.173000</td>\n",
              "    </tr>\n",
              "  </tbody>\n",
              "</table>\n",
              "<p>8 rows × 30 columns</p>\n",
              "</div>"
            ],
            "text/plain": [
              "       radius_mean  texture_mean  perimeter_mean    area_mean  \\\n",
              "count   341.000000    341.000000      341.000000   341.000000   \n",
              "mean     14.001481     19.128152       91.030762   642.609971   \n",
              "std       3.473378      4.197569       23.904744   345.479971   \n",
              "min       7.691000      9.710000       47.920000   170.400000   \n",
              "25%      11.630000     16.320000       74.680000   412.600000   \n",
              "50%      13.200000     18.820000       85.480000   538.400000   \n",
              "75%      15.660000     21.560000      102.800000   758.600000   \n",
              "max      27.420000     39.280000      186.900000  2501.000000   \n",
              "\n",
              "       smoothness_mean  compactness_mean  concavity_mean  concave points_mean  \\\n",
              "count       341.000000        341.000000      341.000000           341.000000   \n",
              "mean          0.095934          0.102269        0.085459             0.047155   \n",
              "std           0.014450          0.053894        0.079140             0.038212   \n",
              "min           0.052630          0.019380        0.000000             0.000000   \n",
              "25%           0.085820          0.061590        0.026380             0.019240   \n",
              "50%           0.094400          0.086420        0.057740             0.032500   \n",
              "75%           0.104900          0.129900        0.121800             0.067720   \n",
              "max           0.163400          0.311400        0.426800             0.201200   \n",
              "\n",
              "       symmetry_mean  fractal_dimension_mean  ...  radius_worst  \\\n",
              "count     341.000000              341.000000  ...    341.000000   \n",
              "mean        0.182006                0.062750  ...     16.125613   \n",
              "std         0.028181                0.007412  ...      4.845435   \n",
              "min         0.116700                0.049960  ...      8.678000   \n",
              "25%         0.162000                0.057630  ...     12.980000   \n",
              "50%         0.179900                0.061660  ...     14.910000   \n",
              "75%         0.196600                0.066010  ...     18.100000   \n",
              "max         0.274300                0.097440  ...     36.040000   \n",
              "\n",
              "       texture_worst  perimeter_worst   area_worst  smoothness_worst  \\\n",
              "count     341.000000       341.000000   341.000000        341.000000   \n",
              "mean       25.465279       106.273167   866.555132          0.131554   \n",
              "std         5.977085        33.660162   578.566377          0.023416   \n",
              "min        12.020000        54.490000   223.600000          0.081250   \n",
              "25%        21.180000        83.610000   513.900000          0.114000   \n",
              "50%        25.220000        97.170000   674.700000          0.130300   \n",
              "75%        29.410000       122.400000  1021.000000          0.146000   \n",
              "max        49.540000       251.200000  4254.000000          0.218400   \n",
              "\n",
              "       compactness_worst  concavity_worst  concave points_worst  \\\n",
              "count         341.000000       341.000000            341.000000   \n",
              "mean            0.248931         0.264040              0.112563   \n",
              "std             0.157138         0.201125              0.066265   \n",
              "min             0.034320         0.000000              0.000000   \n",
              "25%             0.138100         0.108700              0.062960   \n",
              "50%             0.205700         0.215100              0.098610   \n",
              "75%             0.341600         0.375900              0.156500   \n",
              "max             0.937900         0.960800              0.291000   \n",
              "\n",
              "       symmetry_worst  fractal_dimension_worst  \n",
              "count      341.000000               341.000000  \n",
              "mean         0.291753                 0.083672  \n",
              "std          0.064154                 0.018026  \n",
              "min          0.156500                 0.055040  \n",
              "25%          0.252500                 0.070710  \n",
              "50%          0.284100                 0.079610  \n",
              "75%          0.317600                 0.092060  \n",
              "max          0.663800                 0.173000  \n",
              "\n",
              "[8 rows x 30 columns]"
            ]
          },
          "execution_count": 41,
          "metadata": {},
          "output_type": "execute_result"
        }
      ],
      "source": [
        "train_inputs[numeric_cols].describe()"
      ]
    },
    {
      "cell_type": "markdown",
      "id": "515b4b78",
      "metadata": {
        "id": "515b4b78"
      },
      "source": [
        "Do the ranges of the numeric columns seem reasonable? If not, we may have to do some data cleaning as well.\n",
        "\n",
        "Let's also check the number of categories in each of the categorical columns."
      ]
    },
    {
      "cell_type": "code",
      "execution_count": null,
      "id": "eb3adca4",
      "metadata": {
        "id": "eb3adca4",
        "outputId": "c6e751a9-2602-4fe1-dd49-b9a3a1c64f19"
      },
      "outputs": [
        {
          "data": {
            "text/plain": [
              "Series([], dtype: float64)"
            ]
          },
          "execution_count": 42,
          "metadata": {},
          "output_type": "execute_result"
        }
      ],
      "source": [
        "train_inputs[categorical_cols].nunique()"
      ]
    },
    {
      "cell_type": "markdown",
      "id": "81a6a442",
      "metadata": {
        "id": "81a6a442"
      },
      "source": [
        "Let's save our work before continuing."
      ]
    },
    {
      "cell_type": "code",
      "execution_count": null,
      "id": "ec820296",
      "metadata": {
        "id": "ec820296",
        "outputId": "bb0c150d-88eb-4234-8526-faa6b62d0366"
      },
      "outputs": [
        {
          "data": {
            "application/javascript": [
              "window.require && require([\"base/js/namespace\"],function(Jupyter){Jupyter.notebook.save_checkpoint()})"
            ],
            "text/plain": [
              "<IPython.core.display.Javascript object>"
            ]
          },
          "metadata": {},
          "output_type": "display_data"
        },
        {
          "name": "stdout",
          "output_type": "stream",
          "text": [
            "[jovian] Updating notebook \"mitchell-odili/breast-cancer-wisconsin-diagnostics\" on https://jovian.ai/\u001b[0m\n",
            "[jovian] Committed successfully! https://jovian.ai/mitchell-odili/breast-cancer-wisconsin-diagnostics\u001b[0m\n"
          ]
        },
        {
          "data": {
            "text/plain": [
              "'https://jovian.ai/mitchell-odili/breast-cancer-wisconsin-diagnostics'"
            ]
          },
          "execution_count": 43,
          "metadata": {},
          "output_type": "execute_result"
        }
      ],
      "source": [
        "jovian.commit()"
      ]
    },
    {
      "cell_type": "markdown",
      "id": "3712d2c7",
      "metadata": {
        "id": "3712d2c7"
      },
      "source": [
        "## Scaling Numeric Features\n",
        "\n",
        "Another good practice is to scale numeric features to a small range of values e.g. $(0,1)$ or $(-1,1)$. Scaling numeric features ensures that no particular feature has a disproportionate impact on the model's loss. Optimization algorithms also work better in practice with smaller numbers.\n",
        "\n",
        "The numeric columns in our dataset have varying ranges."
      ]
    },
    {
      "cell_type": "markdown",
      "id": "e5486a1b",
      "metadata": {
        "id": "e5486a1b"
      },
      "source": [
        "Let's use `MinMaxScaler` from `sklearn.preprocessing` to scale values to the $(0,1)$ range."
      ]
    },
    {
      "cell_type": "code",
      "execution_count": null,
      "id": "f5854269",
      "metadata": {
        "id": "f5854269"
      },
      "outputs": [],
      "source": [
        "from sklearn.preprocessing import MinMaxScaler"
      ]
    },
    {
      "cell_type": "code",
      "execution_count": null,
      "id": "c25671b6",
      "metadata": {
        "id": "c25671b6"
      },
      "outputs": [],
      "source": [
        "scaler = MinMaxScaler()"
      ]
    },
    {
      "cell_type": "markdown",
      "id": "6c61b0b1",
      "metadata": {
        "id": "6c61b0b1"
      },
      "source": [
        "First, we `fit` the scaler to the data i.e. compute the range of values for each numeric column."
      ]
    },
    {
      "cell_type": "code",
      "execution_count": null,
      "id": "ffa480ae",
      "metadata": {
        "id": "ffa480ae",
        "outputId": "6e5450b2-bcee-4f2e-b0b5-1a77071bfdb2"
      },
      "outputs": [
        {
          "data": {
            "text/plain": [
              "MinMaxScaler()"
            ]
          },
          "execution_count": 46,
          "metadata": {},
          "output_type": "execute_result"
        }
      ],
      "source": [
        "scaler.fit(raw_df[numeric_cols])"
      ]
    },
    {
      "cell_type": "markdown",
      "id": "01c6351b",
      "metadata": {
        "id": "01c6351b"
      },
      "source": [
        "We can now inspect the minimum and maximum values in each column."
      ]
    },
    {
      "cell_type": "code",
      "execution_count": null,
      "id": "f1dea27b",
      "metadata": {
        "id": "f1dea27b",
        "outputId": "aa65cc1b-5ad0-4619-82a7-665b5a4cbfbc"
      },
      "outputs": [
        {
          "name": "stdout",
          "output_type": "stream",
          "text": [
            "Minimum:\n"
          ]
        },
        {
          "data": {
            "text/plain": [
              "[6.981,\n",
              " 9.71,\n",
              " 43.79,\n",
              " 143.5,\n",
              " 0.05263,\n",
              " 0.01938,\n",
              " 0.0,\n",
              " 0.0,\n",
              " 0.106,\n",
              " 0.04996,\n",
              " 0.1115,\n",
              " 0.3602,\n",
              " 0.757,\n",
              " 6.802,\n",
              " 0.001713,\n",
              " 0.002252,\n",
              " 0.0,\n",
              " 0.0,\n",
              " 0.007882,\n",
              " 0.0008948,\n",
              " 7.93,\n",
              " 12.02,\n",
              " 50.41,\n",
              " 185.2,\n",
              " 0.07117,\n",
              " 0.02729,\n",
              " 0.0,\n",
              " 0.0,\n",
              " 0.1565,\n",
              " 0.05504]"
            ]
          },
          "execution_count": 47,
          "metadata": {},
          "output_type": "execute_result"
        }
      ],
      "source": [
        "print('Minimum:')\n",
        "list(scaler.data_min_)"
      ]
    },
    {
      "cell_type": "code",
      "execution_count": null,
      "id": "3b7c8aad",
      "metadata": {
        "id": "3b7c8aad",
        "outputId": "dc909f24-ff6e-482a-f36d-163954e993b6"
      },
      "outputs": [
        {
          "name": "stdout",
          "output_type": "stream",
          "text": [
            "Maximum:\n"
          ]
        },
        {
          "data": {
            "text/plain": [
              "[28.11,\n",
              " 39.28,\n",
              " 188.5,\n",
              " 2501.0,\n",
              " 0.1634,\n",
              " 0.3454,\n",
              " 0.4268,\n",
              " 0.2012,\n",
              " 0.304,\n",
              " 0.09744,\n",
              " 2.873,\n",
              " 4.885,\n",
              " 21.98,\n",
              " 542.2,\n",
              " 0.03113,\n",
              " 0.1354,\n",
              " 0.396,\n",
              " 0.05279,\n",
              " 0.07895,\n",
              " 0.02984,\n",
              " 36.04,\n",
              " 49.54,\n",
              " 251.2,\n",
              " 4254.0,\n",
              " 0.2226,\n",
              " 1.058,\n",
              " 1.252,\n",
              " 0.291,\n",
              " 0.6638,\n",
              " 0.2075]"
            ]
          },
          "execution_count": 48,
          "metadata": {},
          "output_type": "execute_result"
        }
      ],
      "source": [
        "print('Maximum:')\n",
        "list(scaler.data_max_)"
      ]
    },
    {
      "cell_type": "markdown",
      "id": "c0573207",
      "metadata": {
        "id": "c0573207"
      },
      "source": [
        "We can now separately scale the training, validation and test sets using the `transform` method of `scaler`."
      ]
    },
    {
      "cell_type": "code",
      "execution_count": null,
      "id": "d69cc459",
      "metadata": {
        "id": "d69cc459"
      },
      "outputs": [],
      "source": [
        "train_inputs[numeric_cols] = scaler.transform(train_inputs[numeric_cols])\n",
        "val_inputs[numeric_cols] = scaler.transform(val_inputs[numeric_cols])\n",
        "test_inputs[numeric_cols] = scaler.transform(test_inputs[numeric_cols])"
      ]
    },
    {
      "cell_type": "markdown",
      "id": "721c519a",
      "metadata": {
        "id": "721c519a"
      },
      "source": [
        "We can now verify that values in each column lie in the range $(0,1)$"
      ]
    },
    {
      "cell_type": "code",
      "execution_count": null,
      "id": "c4c0d133",
      "metadata": {
        "id": "c4c0d133",
        "outputId": "c41d3e28-942c-40db-f9f8-49a5ef6941b1"
      },
      "outputs": [
        {
          "data": {
            "text/html": [
              "<div>\n",
              "<style scoped>\n",
              "    .dataframe tbody tr th:only-of-type {\n",
              "        vertical-align: middle;\n",
              "    }\n",
              "\n",
              "    .dataframe tbody tr th {\n",
              "        vertical-align: top;\n",
              "    }\n",
              "\n",
              "    .dataframe thead th {\n",
              "        text-align: right;\n",
              "    }\n",
              "</style>\n",
              "<table border=\"1\" class=\"dataframe\">\n",
              "  <thead>\n",
              "    <tr style=\"text-align: right;\">\n",
              "      <th></th>\n",
              "      <th>radius_mean</th>\n",
              "      <th>texture_mean</th>\n",
              "      <th>perimeter_mean</th>\n",
              "      <th>area_mean</th>\n",
              "      <th>smoothness_mean</th>\n",
              "      <th>compactness_mean</th>\n",
              "      <th>concavity_mean</th>\n",
              "      <th>concave points_mean</th>\n",
              "      <th>symmetry_mean</th>\n",
              "      <th>fractal_dimension_mean</th>\n",
              "      <th>...</th>\n",
              "      <th>radius_worst</th>\n",
              "      <th>texture_worst</th>\n",
              "      <th>perimeter_worst</th>\n",
              "      <th>area_worst</th>\n",
              "      <th>smoothness_worst</th>\n",
              "      <th>compactness_worst</th>\n",
              "      <th>concavity_worst</th>\n",
              "      <th>concave points_worst</th>\n",
              "      <th>symmetry_worst</th>\n",
              "      <th>fractal_dimension_worst</th>\n",
              "    </tr>\n",
              "  </thead>\n",
              "  <tbody>\n",
              "    <tr>\n",
              "      <th>count</th>\n",
              "      <td>341.000000</td>\n",
              "      <td>341.000000</td>\n",
              "      <td>341.000000</td>\n",
              "      <td>341.000000</td>\n",
              "      <td>341.000000</td>\n",
              "      <td>341.000000</td>\n",
              "      <td>341.000000</td>\n",
              "      <td>341.000000</td>\n",
              "      <td>341.000000</td>\n",
              "      <td>341.000000</td>\n",
              "      <td>...</td>\n",
              "      <td>341.000000</td>\n",
              "      <td>341.000000</td>\n",
              "      <td>341.000000</td>\n",
              "      <td>341.000000</td>\n",
              "      <td>341.000000</td>\n",
              "      <td>341.000000</td>\n",
              "      <td>341.000000</td>\n",
              "      <td>341.000000</td>\n",
              "      <td>341.000000</td>\n",
              "      <td>341.000000</td>\n",
              "    </tr>\n",
              "    <tr>\n",
              "      <th>mean</th>\n",
              "      <td>0.332268</td>\n",
              "      <td>0.318504</td>\n",
              "      <td>0.326451</td>\n",
              "      <td>0.211712</td>\n",
              "      <td>0.390940</td>\n",
              "      <td>0.254246</td>\n",
              "      <td>0.200232</td>\n",
              "      <td>0.234369</td>\n",
              "      <td>0.383871</td>\n",
              "      <td>0.269382</td>\n",
              "      <td>...</td>\n",
              "      <td>0.291555</td>\n",
              "      <td>0.358350</td>\n",
              "      <td>0.278217</td>\n",
              "      <td>0.167458</td>\n",
              "      <td>0.398758</td>\n",
              "      <td>0.215037</td>\n",
              "      <td>0.210895</td>\n",
              "      <td>0.386814</td>\n",
              "      <td>0.266614</td>\n",
              "      <td>0.187798</td>\n",
              "    </tr>\n",
              "    <tr>\n",
              "      <th>std</th>\n",
              "      <td>0.164389</td>\n",
              "      <td>0.141954</td>\n",
              "      <td>0.165191</td>\n",
              "      <td>0.146545</td>\n",
              "      <td>0.130450</td>\n",
              "      <td>0.165308</td>\n",
              "      <td>0.185427</td>\n",
              "      <td>0.189919</td>\n",
              "      <td>0.142330</td>\n",
              "      <td>0.156107</td>\n",
              "      <td>...</td>\n",
              "      <td>0.172374</td>\n",
              "      <td>0.159304</td>\n",
              "      <td>0.167639</td>\n",
              "      <td>0.142196</td>\n",
              "      <td>0.154633</td>\n",
              "      <td>0.152456</td>\n",
              "      <td>0.160643</td>\n",
              "      <td>0.227713</td>\n",
              "      <td>0.126462</td>\n",
              "      <td>0.118234</td>\n",
              "    </tr>\n",
              "    <tr>\n",
              "      <th>min</th>\n",
              "      <td>0.033603</td>\n",
              "      <td>0.000000</td>\n",
              "      <td>0.028540</td>\n",
              "      <td>0.011410</td>\n",
              "      <td>0.000000</td>\n",
              "      <td>0.000000</td>\n",
              "      <td>0.000000</td>\n",
              "      <td>0.000000</td>\n",
              "      <td>0.054040</td>\n",
              "      <td>0.000000</td>\n",
              "      <td>...</td>\n",
              "      <td>0.026610</td>\n",
              "      <td>0.000000</td>\n",
              "      <td>0.020320</td>\n",
              "      <td>0.009438</td>\n",
              "      <td>0.066565</td>\n",
              "      <td>0.006821</td>\n",
              "      <td>0.000000</td>\n",
              "      <td>0.000000</td>\n",
              "      <td>0.000000</td>\n",
              "      <td>0.000000</td>\n",
              "    </tr>\n",
              "    <tr>\n",
              "      <th>25%</th>\n",
              "      <td>0.220029</td>\n",
              "      <td>0.223537</td>\n",
              "      <td>0.213461</td>\n",
              "      <td>0.114146</td>\n",
              "      <td>0.299630</td>\n",
              "      <td>0.129471</td>\n",
              "      <td>0.061809</td>\n",
              "      <td>0.095626</td>\n",
              "      <td>0.282828</td>\n",
              "      <td>0.161542</td>\n",
              "      <td>...</td>\n",
              "      <td>0.179651</td>\n",
              "      <td>0.244136</td>\n",
              "      <td>0.165347</td>\n",
              "      <td>0.080785</td>\n",
              "      <td>0.282837</td>\n",
              "      <td>0.107508</td>\n",
              "      <td>0.086821</td>\n",
              "      <td>0.216357</td>\n",
              "      <td>0.189237</td>\n",
              "      <td>0.102781</td>\n",
              "    </tr>\n",
              "    <tr>\n",
              "      <th>50%</th>\n",
              "      <td>0.294335</td>\n",
              "      <td>0.308083</td>\n",
              "      <td>0.288093</td>\n",
              "      <td>0.167508</td>\n",
              "      <td>0.377088</td>\n",
              "      <td>0.205632</td>\n",
              "      <td>0.135286</td>\n",
              "      <td>0.161531</td>\n",
              "      <td>0.373232</td>\n",
              "      <td>0.246420</td>\n",
              "      <td>...</td>\n",
              "      <td>0.248310</td>\n",
              "      <td>0.351812</td>\n",
              "      <td>0.232880</td>\n",
              "      <td>0.120306</td>\n",
              "      <td>0.390477</td>\n",
              "      <td>0.173094</td>\n",
              "      <td>0.171805</td>\n",
              "      <td>0.338866</td>\n",
              "      <td>0.251528</td>\n",
              "      <td>0.161157</td>\n",
              "    </tr>\n",
              "    <tr>\n",
              "      <th>75%</th>\n",
              "      <td>0.410762</td>\n",
              "      <td>0.400744</td>\n",
              "      <td>0.407781</td>\n",
              "      <td>0.260912</td>\n",
              "      <td>0.471879</td>\n",
              "      <td>0.338998</td>\n",
              "      <td>0.285380</td>\n",
              "      <td>0.336581</td>\n",
              "      <td>0.457576</td>\n",
              "      <td>0.338037</td>\n",
              "      <td>...</td>\n",
              "      <td>0.361793</td>\n",
              "      <td>0.463486</td>\n",
              "      <td>0.358534</td>\n",
              "      <td>0.205417</td>\n",
              "      <td>0.494156</td>\n",
              "      <td>0.304945</td>\n",
              "      <td>0.300240</td>\n",
              "      <td>0.537801</td>\n",
              "      <td>0.317564</td>\n",
              "      <td>0.242818</td>\n",
              "    </tr>\n",
              "    <tr>\n",
              "      <th>max</th>\n",
              "      <td>0.967343</td>\n",
              "      <td>1.000000</td>\n",
              "      <td>0.988943</td>\n",
              "      <td>1.000000</td>\n",
              "      <td>1.000000</td>\n",
              "      <td>0.895712</td>\n",
              "      <td>1.000000</td>\n",
              "      <td>1.000000</td>\n",
              "      <td>0.850000</td>\n",
              "      <td>1.000000</td>\n",
              "      <td>...</td>\n",
              "      <td>1.000000</td>\n",
              "      <td>1.000000</td>\n",
              "      <td>1.000000</td>\n",
              "      <td>1.000000</td>\n",
              "      <td>0.972264</td>\n",
              "      <td>0.883478</td>\n",
              "      <td>0.767412</td>\n",
              "      <td>1.000000</td>\n",
              "      <td>1.000000</td>\n",
              "      <td>0.773711</td>\n",
              "    </tr>\n",
              "  </tbody>\n",
              "</table>\n",
              "<p>8 rows × 30 columns</p>\n",
              "</div>"
            ],
            "text/plain": [
              "       radius_mean  texture_mean  perimeter_mean   area_mean  smoothness_mean  \\\n",
              "count   341.000000    341.000000      341.000000  341.000000       341.000000   \n",
              "mean      0.332268      0.318504        0.326451    0.211712         0.390940   \n",
              "std       0.164389      0.141954        0.165191    0.146545         0.130450   \n",
              "min       0.033603      0.000000        0.028540    0.011410         0.000000   \n",
              "25%       0.220029      0.223537        0.213461    0.114146         0.299630   \n",
              "50%       0.294335      0.308083        0.288093    0.167508         0.377088   \n",
              "75%       0.410762      0.400744        0.407781    0.260912         0.471879   \n",
              "max       0.967343      1.000000        0.988943    1.000000         1.000000   \n",
              "\n",
              "       compactness_mean  concavity_mean  concave points_mean  symmetry_mean  \\\n",
              "count        341.000000      341.000000           341.000000     341.000000   \n",
              "mean           0.254246        0.200232             0.234369       0.383871   \n",
              "std            0.165308        0.185427             0.189919       0.142330   \n",
              "min            0.000000        0.000000             0.000000       0.054040   \n",
              "25%            0.129471        0.061809             0.095626       0.282828   \n",
              "50%            0.205632        0.135286             0.161531       0.373232   \n",
              "75%            0.338998        0.285380             0.336581       0.457576   \n",
              "max            0.895712        1.000000             1.000000       0.850000   \n",
              "\n",
              "       fractal_dimension_mean  ...  radius_worst  texture_worst  \\\n",
              "count              341.000000  ...    341.000000     341.000000   \n",
              "mean                 0.269382  ...      0.291555       0.358350   \n",
              "std                  0.156107  ...      0.172374       0.159304   \n",
              "min                  0.000000  ...      0.026610       0.000000   \n",
              "25%                  0.161542  ...      0.179651       0.244136   \n",
              "50%                  0.246420  ...      0.248310       0.351812   \n",
              "75%                  0.338037  ...      0.361793       0.463486   \n",
              "max                  1.000000  ...      1.000000       1.000000   \n",
              "\n",
              "       perimeter_worst  area_worst  smoothness_worst  compactness_worst  \\\n",
              "count       341.000000  341.000000        341.000000         341.000000   \n",
              "mean          0.278217    0.167458          0.398758           0.215037   \n",
              "std           0.167639    0.142196          0.154633           0.152456   \n",
              "min           0.020320    0.009438          0.066565           0.006821   \n",
              "25%           0.165347    0.080785          0.282837           0.107508   \n",
              "50%           0.232880    0.120306          0.390477           0.173094   \n",
              "75%           0.358534    0.205417          0.494156           0.304945   \n",
              "max           1.000000    1.000000          0.972264           0.883478   \n",
              "\n",
              "       concavity_worst  concave points_worst  symmetry_worst  \\\n",
              "count       341.000000            341.000000      341.000000   \n",
              "mean          0.210895              0.386814        0.266614   \n",
              "std           0.160643              0.227713        0.126462   \n",
              "min           0.000000              0.000000        0.000000   \n",
              "25%           0.086821              0.216357        0.189237   \n",
              "50%           0.171805              0.338866        0.251528   \n",
              "75%           0.300240              0.537801        0.317564   \n",
              "max           0.767412              1.000000        1.000000   \n",
              "\n",
              "       fractal_dimension_worst  \n",
              "count               341.000000  \n",
              "mean                  0.187798  \n",
              "std                   0.118234  \n",
              "min                   0.000000  \n",
              "25%                   0.102781  \n",
              "50%                   0.161157  \n",
              "75%                   0.242818  \n",
              "max                   0.773711  \n",
              "\n",
              "[8 rows x 30 columns]"
            ]
          },
          "execution_count": 50,
          "metadata": {},
          "output_type": "execute_result"
        }
      ],
      "source": [
        "train_inputs[numeric_cols].describe()"
      ]
    },
    {
      "cell_type": "markdown",
      "id": "e6e426b0",
      "metadata": {
        "id": "e6e426b0"
      },
      "source": [
        "Learn more about scaling techniques here: https://machinelearningmastery.com/standardscaler-and-minmaxscaler-transforms-in-python/"
      ]
    },
    {
      "cell_type": "markdown",
      "id": "e09c040f",
      "metadata": {
        "id": "e09c040f"
      },
      "source": [
        "Let's save our work before continuing."
      ]
    },
    {
      "cell_type": "code",
      "execution_count": null,
      "id": "911468da",
      "metadata": {
        "id": "911468da",
        "outputId": "c4efcf29-d1df-4148-b273-899e5dc72fba"
      },
      "outputs": [
        {
          "data": {
            "application/javascript": [
              "window.require && require([\"base/js/namespace\"],function(Jupyter){Jupyter.notebook.save_checkpoint()})"
            ],
            "text/plain": [
              "<IPython.core.display.Javascript object>"
            ]
          },
          "metadata": {},
          "output_type": "display_data"
        },
        {
          "name": "stdout",
          "output_type": "stream",
          "text": [
            "[jovian] Updating notebook \"mitchell-odili/breast-cancer-wisconsin-diagnostics\" on https://jovian.ai/\u001b[0m\n",
            "[jovian] Committed successfully! https://jovian.ai/mitchell-odili/breast-cancer-wisconsin-diagnostics\u001b[0m\n"
          ]
        },
        {
          "data": {
            "text/plain": [
              "'https://jovian.ai/mitchell-odili/breast-cancer-wisconsin-diagnostics'"
            ]
          },
          "execution_count": 51,
          "metadata": {},
          "output_type": "execute_result"
        }
      ],
      "source": [
        "jovian.commit()"
      ]
    },
    {
      "cell_type": "markdown",
      "id": "d31741d6",
      "metadata": {
        "id": "d31741d6"
      },
      "source": [
        "## Saving Processed Data to Disk\n",
        "\n",
        "It can be useful to save processed data to disk, especially for really large datasets, to avoid repeating the preprocessing steps every time you start the Jupyter notebook. The parquet format is a fast and efficient format for saving and loading Pandas dataframes."
      ]
    },
    {
      "cell_type": "code",
      "execution_count": null,
      "id": "92be12dc",
      "metadata": {
        "id": "92be12dc",
        "outputId": "0f0728ad-afd4-46c1-9b6f-7375bd9501cc"
      },
      "outputs": [
        {
          "name": "stdout",
          "output_type": "stream",
          "text": [
            "train_inputs: (341, 30)\n",
            "train_targets: (341,)\n",
            "val_inputs: (114, 30)\n",
            "val_targets: (114,)\n",
            "test_inputs: (114, 30)\n",
            "test_targets: (114,)\n"
          ]
        }
      ],
      "source": [
        "print('train_inputs:', train_inputs.shape)\n",
        "print('train_targets:', train_target.shape)\n",
        "print('val_inputs:', val_inputs.shape)\n",
        "print('val_targets:', val_target.shape)\n",
        "print('test_inputs:', test_inputs.shape)\n",
        "print('test_targets:', test_target.shape)"
      ]
    },
    {
      "cell_type": "code",
      "execution_count": null,
      "id": "9637f1ef",
      "metadata": {
        "id": "9637f1ef"
      },
      "outputs": [],
      "source": [
        "!pip install pyarrow --quiet"
      ]
    },
    {
      "cell_type": "code",
      "execution_count": null,
      "id": "a5d9148e",
      "metadata": {
        "id": "a5d9148e"
      },
      "outputs": [],
      "source": [
        "train_inputs.to_parquet('train_inputs.parquet')\n",
        "val_inputs.to_parquet('val_inputs.parquet')\n",
        "test_inputs.to_parquet('test_inputs.parquet')"
      ]
    },
    {
      "cell_type": "code",
      "execution_count": null,
      "id": "543bdf07",
      "metadata": {
        "id": "543bdf07",
        "outputId": "767548ff-4f8c-4094-92d3-5febeea8368a"
      },
      "outputs": [
        {
          "name": "stdout",
          "output_type": "stream",
          "text": [
            "Wall time: 982 ms\n"
          ]
        }
      ],
      "source": [
        "%%time\n",
        "pd.DataFrame(train_target).to_parquet('train_targets.parquet')\n",
        "pd.DataFrame(val_target).to_parquet('val_targets.parquet')\n",
        "pd.DataFrame(test_target).to_parquet('test_targets.parquet')"
      ]
    },
    {
      "cell_type": "markdown",
      "id": "474de3bf",
      "metadata": {
        "id": "474de3bf"
      },
      "source": [
        "We can read the data back using pd.read_parquet."
      ]
    },
    {
      "cell_type": "code",
      "execution_count": null,
      "id": "63d3369e",
      "metadata": {
        "id": "63d3369e",
        "outputId": "bf3666b7-7248-4080-f6ba-acb04d77a25f"
      },
      "outputs": [
        {
          "name": "stdout",
          "output_type": "stream",
          "text": [
            "Wall time: 4.22 s\n"
          ]
        }
      ],
      "source": [
        "%%time\n",
        "\n",
        "train_inputs = pd.read_parquet('train_inputs.parquet')\n",
        "val_inputs = pd.read_parquet('val_inputs.parquet')\n",
        "test_inputs = pd.read_parquet('test_inputs.parquet')\n",
        "\n",
        "train_targets = pd.read_parquet('train_targets.parquet')[target_col]\n",
        "val_targets = pd.read_parquet('val_targets.parquet')[target_col]\n",
        "test_targets = pd.read_parquet('test_targets.parquet')[target_col]"
      ]
    },
    {
      "cell_type": "markdown",
      "id": "6947fff3",
      "metadata": {
        "id": "6947fff3"
      },
      "source": [
        "Let's verify that the data was loaded properly."
      ]
    },
    {
      "cell_type": "code",
      "execution_count": null,
      "id": "6458fb16",
      "metadata": {
        "id": "6458fb16",
        "outputId": "e45d8c9e-2457-4ede-c5e3-59b24a451f8c"
      },
      "outputs": [
        {
          "name": "stdout",
          "output_type": "stream",
          "text": [
            "train_inputs: (341, 30)\n",
            "train_targets: (341,)\n",
            "val_inputs: (114, 30)\n",
            "val_targets: (114,)\n",
            "test_inputs: (114, 30)\n",
            "test_targets: (114,)\n"
          ]
        }
      ],
      "source": [
        "print('train_inputs:', train_inputs.shape)\n",
        "print('train_targets:', train_targets.shape)\n",
        "print('val_inputs:', val_inputs.shape)\n",
        "print('val_targets:', val_targets.shape)\n",
        "print('test_inputs:', test_inputs.shape)\n",
        "print('test_targets:', test_targets.shape)"
      ]
    },
    {
      "cell_type": "code",
      "execution_count": null,
      "id": "758f33a5",
      "metadata": {
        "id": "758f33a5",
        "outputId": "6365cb41-669a-4b29-91c0-787e6321244f"
      },
      "outputs": [
        {
          "data": {
            "text/html": [
              "<div>\n",
              "<style scoped>\n",
              "    .dataframe tbody tr th:only-of-type {\n",
              "        vertical-align: middle;\n",
              "    }\n",
              "\n",
              "    .dataframe tbody tr th {\n",
              "        vertical-align: top;\n",
              "    }\n",
              "\n",
              "    .dataframe thead th {\n",
              "        text-align: right;\n",
              "    }\n",
              "</style>\n",
              "<table border=\"1\" class=\"dataframe\">\n",
              "  <thead>\n",
              "    <tr style=\"text-align: right;\">\n",
              "      <th></th>\n",
              "      <th>radius_mean</th>\n",
              "      <th>texture_mean</th>\n",
              "      <th>perimeter_mean</th>\n",
              "      <th>area_mean</th>\n",
              "      <th>smoothness_mean</th>\n",
              "      <th>compactness_mean</th>\n",
              "      <th>concavity_mean</th>\n",
              "      <th>concave points_mean</th>\n",
              "      <th>symmetry_mean</th>\n",
              "      <th>fractal_dimension_mean</th>\n",
              "      <th>...</th>\n",
              "      <th>radius_worst</th>\n",
              "      <th>texture_worst</th>\n",
              "      <th>perimeter_worst</th>\n",
              "      <th>area_worst</th>\n",
              "      <th>smoothness_worst</th>\n",
              "      <th>compactness_worst</th>\n",
              "      <th>concavity_worst</th>\n",
              "      <th>concave points_worst</th>\n",
              "      <th>symmetry_worst</th>\n",
              "      <th>fractal_dimension_worst</th>\n",
              "    </tr>\n",
              "  </thead>\n",
              "  <tbody>\n",
              "    <tr>\n",
              "      <th>95</th>\n",
              "      <td>0.628473</td>\n",
              "      <td>0.450457</td>\n",
              "      <td>0.612328</td>\n",
              "      <td>0.475292</td>\n",
              "      <td>0.344407</td>\n",
              "      <td>0.343292</td>\n",
              "      <td>0.343252</td>\n",
              "      <td>0.431561</td>\n",
              "      <td>0.522727</td>\n",
              "      <td>0.137532</td>\n",
              "      <td>...</td>\n",
              "      <td>0.579509</td>\n",
              "      <td>0.521588</td>\n",
              "      <td>0.526371</td>\n",
              "      <td>0.384585</td>\n",
              "      <td>0.315856</td>\n",
              "      <td>0.316879</td>\n",
              "      <td>0.327316</td>\n",
              "      <td>0.540550</td>\n",
              "      <td>0.418687</td>\n",
              "      <td>0.187853</td>\n",
              "    </tr>\n",
              "    <tr>\n",
              "      <th>93</th>\n",
              "      <td>0.306167</td>\n",
              "      <td>0.290497</td>\n",
              "      <td>0.295833</td>\n",
              "      <td>0.174592</td>\n",
              "      <td>0.447504</td>\n",
              "      <td>0.191001</td>\n",
              "      <td>0.093112</td>\n",
              "      <td>0.138171</td>\n",
              "      <td>0.291919</td>\n",
              "      <td>0.150379</td>\n",
              "      <td>...</td>\n",
              "      <td>0.255069</td>\n",
              "      <td>0.371002</td>\n",
              "      <td>0.234972</td>\n",
              "      <td>0.126376</td>\n",
              "      <td>0.414251</td>\n",
              "      <td>0.143406</td>\n",
              "      <td>0.110304</td>\n",
              "      <td>0.271856</td>\n",
              "      <td>0.219397</td>\n",
              "      <td>0.072084</td>\n",
              "    </tr>\n",
              "    <tr>\n",
              "      <th>401</th>\n",
              "      <td>0.234228</td>\n",
              "      <td>0.040582</td>\n",
              "      <td>0.223551</td>\n",
              "      <td>0.126914</td>\n",
              "      <td>0.325810</td>\n",
              "      <td>0.101343</td>\n",
              "      <td>0.061059</td>\n",
              "      <td>0.089264</td>\n",
              "      <td>0.273232</td>\n",
              "      <td>0.114785</td>\n",
              "      <td>...</td>\n",
              "      <td>0.208822</td>\n",
              "      <td>0.216418</td>\n",
              "      <td>0.185418</td>\n",
              "      <td>0.099366</td>\n",
              "      <td>0.437364</td>\n",
              "      <td>0.126330</td>\n",
              "      <td>0.120927</td>\n",
              "      <td>0.236289</td>\n",
              "      <td>0.176424</td>\n",
              "      <td>0.115309</td>\n",
              "    </tr>\n",
              "    <tr>\n",
              "      <th>345</th>\n",
              "      <td>0.155190</td>\n",
              "      <td>0.169090</td>\n",
              "      <td>0.154861</td>\n",
              "      <td>0.075546</td>\n",
              "      <td>0.416990</td>\n",
              "      <td>0.221489</td>\n",
              "      <td>0.083903</td>\n",
              "      <td>0.101243</td>\n",
              "      <td>0.289394</td>\n",
              "      <td>0.423126</td>\n",
              "      <td>...</td>\n",
              "      <td>0.104945</td>\n",
              "      <td>0.198827</td>\n",
              "      <td>0.101997</td>\n",
              "      <td>0.042248</td>\n",
              "      <td>0.428119</td>\n",
              "      <td>0.132249</td>\n",
              "      <td>0.057204</td>\n",
              "      <td>0.140000</td>\n",
              "      <td>0.171299</td>\n",
              "      <td>0.195723</td>\n",
              "    </tr>\n",
              "    <tr>\n",
              "      <th>194</th>\n",
              "      <td>0.372900</td>\n",
              "      <td>0.456544</td>\n",
              "      <td>0.391196</td>\n",
              "      <td>0.223924</td>\n",
              "      <td>0.467365</td>\n",
              "      <td>0.547880</td>\n",
              "      <td>0.397610</td>\n",
              "      <td>0.441252</td>\n",
              "      <td>0.341919</td>\n",
              "      <td>0.352991</td>\n",
              "      <td>...</td>\n",
              "      <td>0.289932</td>\n",
              "      <td>0.420043</td>\n",
              "      <td>0.339609</td>\n",
              "      <td>0.147341</td>\n",
              "      <td>0.399062</td>\n",
              "      <td>0.424474</td>\n",
              "      <td>0.366534</td>\n",
              "      <td>0.593471</td>\n",
              "      <td>0.282870</td>\n",
              "      <td>0.209694</td>\n",
              "    </tr>\n",
              "    <tr>\n",
              "      <th>...</th>\n",
              "      <td>...</td>\n",
              "      <td>...</td>\n",
              "      <td>...</td>\n",
              "      <td>...</td>\n",
              "      <td>...</td>\n",
              "      <td>...</td>\n",
              "      <td>...</td>\n",
              "      <td>...</td>\n",
              "      <td>...</td>\n",
              "      <td>...</td>\n",
              "      <td>...</td>\n",
              "      <td>...</td>\n",
              "      <td>...</td>\n",
              "      <td>...</td>\n",
              "      <td>...</td>\n",
              "      <td>...</td>\n",
              "      <td>...</td>\n",
              "      <td>...</td>\n",
              "      <td>...</td>\n",
              "      <td>...</td>\n",
              "      <td>...</td>\n",
              "    </tr>\n",
              "    <tr>\n",
              "      <th>212</th>\n",
              "      <td>1.000000</td>\n",
              "      <td>0.296246</td>\n",
              "      <td>1.000000</td>\n",
              "      <td>0.999152</td>\n",
              "      <td>0.555836</td>\n",
              "      <td>0.405558</td>\n",
              "      <td>0.750000</td>\n",
              "      <td>0.792744</td>\n",
              "      <td>0.296970</td>\n",
              "      <td>0.111415</td>\n",
              "      <td>...</td>\n",
              "      <td>0.717894</td>\n",
              "      <td>0.171908</td>\n",
              "      <td>0.687733</td>\n",
              "      <td>0.568669</td>\n",
              "      <td>0.284158</td>\n",
              "      <td>0.120606</td>\n",
              "      <td>0.255671</td>\n",
              "      <td>0.548110</td>\n",
              "      <td>0.016361</td>\n",
              "      <td>0.001377</td>\n",
              "    </tr>\n",
              "    <tr>\n",
              "      <th>15</th>\n",
              "      <td>0.357755</td>\n",
              "      <td>0.602976</td>\n",
              "      <td>0.365835</td>\n",
              "      <td>0.218579</td>\n",
              "      <td>0.553128</td>\n",
              "      <td>0.429790</td>\n",
              "      <td>0.384021</td>\n",
              "      <td>0.366004</td>\n",
              "      <td>0.627778</td>\n",
              "      <td>0.438290</td>\n",
              "      <td>...</td>\n",
              "      <td>0.339025</td>\n",
              "      <td>0.669243</td>\n",
              "      <td>0.367000</td>\n",
              "      <td>0.186296</td>\n",
              "      <td>0.638117</td>\n",
              "      <td>0.611627</td>\n",
              "      <td>0.561182</td>\n",
              "      <td>0.588316</td>\n",
              "      <td>0.522965</td>\n",
              "      <td>0.518562</td>\n",
              "    </tr>\n",
              "    <tr>\n",
              "      <th>428</th>\n",
              "      <td>0.196365</td>\n",
              "      <td>0.233683</td>\n",
              "      <td>0.184369</td>\n",
              "      <td>0.100785</td>\n",
              "      <td>0.260720</td>\n",
              "      <td>0.058156</td>\n",
              "      <td>0.032076</td>\n",
              "      <td>0.068091</td>\n",
              "      <td>0.227778</td>\n",
              "      <td>0.242628</td>\n",
              "      <td>...</td>\n",
              "      <td>0.133404</td>\n",
              "      <td>0.220416</td>\n",
              "      <td>0.119229</td>\n",
              "      <td>0.057978</td>\n",
              "      <td>0.210196</td>\n",
              "      <td>0.033860</td>\n",
              "      <td>0.036581</td>\n",
              "      <td>0.138969</td>\n",
              "      <td>0.161246</td>\n",
              "      <td>0.103568</td>\n",
              "    </tr>\n",
              "    <tr>\n",
              "      <th>363</th>\n",
              "      <td>0.450518</td>\n",
              "      <td>0.290159</td>\n",
              "      <td>0.434040</td>\n",
              "      <td>0.294634</td>\n",
              "      <td>0.399296</td>\n",
              "      <td>0.200294</td>\n",
              "      <td>0.137348</td>\n",
              "      <td>0.240308</td>\n",
              "      <td>0.219697</td>\n",
              "      <td>0.125737</td>\n",
              "      <td>...</td>\n",
              "      <td>0.362860</td>\n",
              "      <td>0.357942</td>\n",
              "      <td>0.332636</td>\n",
              "      <td>0.202468</td>\n",
              "      <td>0.413590</td>\n",
              "      <td>0.136421</td>\n",
              "      <td>0.132827</td>\n",
              "      <td>0.313505</td>\n",
              "      <td>0.163414</td>\n",
              "      <td>0.063295</td>\n",
              "    </tr>\n",
              "    <tr>\n",
              "      <th>116</th>\n",
              "      <td>0.093189</td>\n",
              "      <td>0.204599</td>\n",
              "      <td>0.103310</td>\n",
              "      <td>0.043139</td>\n",
              "      <td>0.379074</td>\n",
              "      <td>0.321821</td>\n",
              "      <td>0.217034</td>\n",
              "      <td>0.114712</td>\n",
              "      <td>0.123737</td>\n",
              "      <td>0.456403</td>\n",
              "      <td>...</td>\n",
              "      <td>0.052793</td>\n",
              "      <td>0.134595</td>\n",
              "      <td>0.064396</td>\n",
              "      <td>0.020842</td>\n",
              "      <td>0.308591</td>\n",
              "      <td>0.155825</td>\n",
              "      <td>0.123323</td>\n",
              "      <td>0.132165</td>\n",
              "      <td>0.017150</td>\n",
              "      <td>0.145481</td>\n",
              "    </tr>\n",
              "  </tbody>\n",
              "</table>\n",
              "<p>114 rows × 30 columns</p>\n",
              "</div>"
            ],
            "text/plain": [
              "     radius_mean  texture_mean  perimeter_mean  area_mean  smoothness_mean  \\\n",
              "95      0.628473      0.450457        0.612328   0.475292         0.344407   \n",
              "93      0.306167      0.290497        0.295833   0.174592         0.447504   \n",
              "401     0.234228      0.040582        0.223551   0.126914         0.325810   \n",
              "345     0.155190      0.169090        0.154861   0.075546         0.416990   \n",
              "194     0.372900      0.456544        0.391196   0.223924         0.467365   \n",
              "..           ...           ...             ...        ...              ...   \n",
              "212     1.000000      0.296246        1.000000   0.999152         0.555836   \n",
              "15      0.357755      0.602976        0.365835   0.218579         0.553128   \n",
              "428     0.196365      0.233683        0.184369   0.100785         0.260720   \n",
              "363     0.450518      0.290159        0.434040   0.294634         0.399296   \n",
              "116     0.093189      0.204599        0.103310   0.043139         0.379074   \n",
              "\n",
              "     compactness_mean  concavity_mean  concave points_mean  symmetry_mean  \\\n",
              "95           0.343292        0.343252             0.431561       0.522727   \n",
              "93           0.191001        0.093112             0.138171       0.291919   \n",
              "401          0.101343        0.061059             0.089264       0.273232   \n",
              "345          0.221489        0.083903             0.101243       0.289394   \n",
              "194          0.547880        0.397610             0.441252       0.341919   \n",
              "..                ...             ...                  ...            ...   \n",
              "212          0.405558        0.750000             0.792744       0.296970   \n",
              "15           0.429790        0.384021             0.366004       0.627778   \n",
              "428          0.058156        0.032076             0.068091       0.227778   \n",
              "363          0.200294        0.137348             0.240308       0.219697   \n",
              "116          0.321821        0.217034             0.114712       0.123737   \n",
              "\n",
              "     fractal_dimension_mean  ...  radius_worst  texture_worst  \\\n",
              "95                 0.137532  ...      0.579509       0.521588   \n",
              "93                 0.150379  ...      0.255069       0.371002   \n",
              "401                0.114785  ...      0.208822       0.216418   \n",
              "345                0.423126  ...      0.104945       0.198827   \n",
              "194                0.352991  ...      0.289932       0.420043   \n",
              "..                      ...  ...           ...            ...   \n",
              "212                0.111415  ...      0.717894       0.171908   \n",
              "15                 0.438290  ...      0.339025       0.669243   \n",
              "428                0.242628  ...      0.133404       0.220416   \n",
              "363                0.125737  ...      0.362860       0.357942   \n",
              "116                0.456403  ...      0.052793       0.134595   \n",
              "\n",
              "     perimeter_worst  area_worst  smoothness_worst  compactness_worst  \\\n",
              "95          0.526371    0.384585          0.315856           0.316879   \n",
              "93          0.234972    0.126376          0.414251           0.143406   \n",
              "401         0.185418    0.099366          0.437364           0.126330   \n",
              "345         0.101997    0.042248          0.428119           0.132249   \n",
              "194         0.339609    0.147341          0.399062           0.424474   \n",
              "..               ...         ...               ...                ...   \n",
              "212         0.687733    0.568669          0.284158           0.120606   \n",
              "15          0.367000    0.186296          0.638117           0.611627   \n",
              "428         0.119229    0.057978          0.210196           0.033860   \n",
              "363         0.332636    0.202468          0.413590           0.136421   \n",
              "116         0.064396    0.020842          0.308591           0.155825   \n",
              "\n",
              "     concavity_worst  concave points_worst  symmetry_worst  \\\n",
              "95          0.327316              0.540550        0.418687   \n",
              "93          0.110304              0.271856        0.219397   \n",
              "401         0.120927              0.236289        0.176424   \n",
              "345         0.057204              0.140000        0.171299   \n",
              "194         0.366534              0.593471        0.282870   \n",
              "..               ...                   ...             ...   \n",
              "212         0.255671              0.548110        0.016361   \n",
              "15          0.561182              0.588316        0.522965   \n",
              "428         0.036581              0.138969        0.161246   \n",
              "363         0.132827              0.313505        0.163414   \n",
              "116         0.123323              0.132165        0.017150   \n",
              "\n",
              "     fractal_dimension_worst  \n",
              "95                  0.187853  \n",
              "93                  0.072084  \n",
              "401                 0.115309  \n",
              "345                 0.195723  \n",
              "194                 0.209694  \n",
              "..                       ...  \n",
              "212                 0.001377  \n",
              "15                  0.518562  \n",
              "428                 0.103568  \n",
              "363                 0.063295  \n",
              "116                 0.145481  \n",
              "\n",
              "[114 rows x 30 columns]"
            ]
          },
          "execution_count": 58,
          "metadata": {},
          "output_type": "execute_result"
        }
      ],
      "source": [
        "val_inputs"
      ]
    },
    {
      "cell_type": "code",
      "execution_count": null,
      "id": "a8395904",
      "metadata": {
        "id": "a8395904",
        "outputId": "8a42d9dc-e9d1-4fe2-ebe3-2e212f87ab58"
      },
      "outputs": [
        {
          "data": {
            "text/plain": [
              "95     M\n",
              "93     B\n",
              "401    B\n",
              "345    B\n",
              "194    M\n",
              "      ..\n",
              "212    M\n",
              "15     M\n",
              "428    B\n",
              "363    B\n",
              "116    B\n",
              "Name: diagnosis, Length: 114, dtype: object"
            ]
          },
          "execution_count": 59,
          "metadata": {},
          "output_type": "execute_result"
        }
      ],
      "source": [
        "val_targets"
      ]
    },
    {
      "cell_type": "markdown",
      "id": "a83fdfee",
      "metadata": {
        "id": "a83fdfee"
      },
      "source": [
        "## Training a Logistic Regression Model\n",
        "\n",
        "Logistic regression is a commonly used technique for solving binary classification problems. In a logistic regression model: \n",
        "\n",
        "- we take linear combination (or weighted sum of the input features) \n",
        "- we apply the sigmoid function to the result to obtain a number between 0 and 1\n",
        "- this number represents the probability of the input being classified as \"Yes\"\n",
        "- instead of RMSE, the cross entropy loss function is used to evaluate the results\n",
        "\n",
        "\n",
        "Here's a visual summary of how a logistic regression model is structured ([source](http://datahacker.rs/005-pytorch-logistic-regression-in-pytorch/)):\n",
        "\n",
        "\n",
        "<img src=\"https://i.imgur.com/YMaMo5D.png\" width=\"480\">\n",
        "\n",
        "The sigmoid function applied to the linear combination of inputs has the following formula:\n",
        "\n",
        "<img src=\"https://i.imgur.com/sAVwvZP.png\" width=\"400\">\n",
        "\n",
        "To train a logistic regression model, we can use the `LogisticRegression` class from Scikit-learn."
      ]
    },
    {
      "cell_type": "code",
      "execution_count": null,
      "id": "3b42ce1b",
      "metadata": {
        "id": "3b42ce1b"
      },
      "outputs": [],
      "source": [
        "from sklearn.linear_model import LogisticRegression"
      ]
    },
    {
      "cell_type": "code",
      "execution_count": null,
      "id": "8cd6ff4b",
      "metadata": {
        "id": "8cd6ff4b"
      },
      "outputs": [],
      "source": [
        "model = LogisticRegression(solver='liblinear')"
      ]
    },
    {
      "cell_type": "markdown",
      "id": "a7314459",
      "metadata": {
        "id": "a7314459"
      },
      "source": [
        "We can train the model using `model.fit`."
      ]
    },
    {
      "cell_type": "code",
      "execution_count": null,
      "id": "dc03a57b",
      "metadata": {
        "id": "dc03a57b",
        "outputId": "dd3ef639-5613-4a92-abc0-9c58303d660d"
      },
      "outputs": [
        {
          "data": {
            "text/plain": [
              "LogisticRegression(solver='liblinear')"
            ]
          },
          "execution_count": 62,
          "metadata": {},
          "output_type": "execute_result"
        }
      ],
      "source": [
        "model.fit(train_inputs[numeric_cols], train_targets)"
      ]
    },
    {
      "cell_type": "markdown",
      "id": "014b69aa",
      "metadata": {
        "id": "014b69aa"
      },
      "source": [
        "`model.fit` uses the following workflow for training the model ([source](https://www.deepnetts.com/blog/from-basic-machine-learning-to-deep-learning-in-5-minutes.html)):\n",
        "\n",
        "1. We initialize a model with random parameters (weights & biases).\n",
        "2. We pass some inputs into the model to obtain predictions.\n",
        "3. We compare the model's predictions with the actual targets using the loss function.  \n",
        "4. We use an optimization technique (like least squares, gradient descent etc.) to reduce the loss by adjusting the weights & biases of the model\n",
        "5. We repeat steps 1 to 4 till the predictions from the model are good enough.\n",
        "\n",
        "\n",
        "<img src=\"https://www.deepnetts.com/blog/wp-content/uploads/2019/02/SupervisedLearning.png\" width=\"480\">\n",
        "\n",
        "For a mathematical discussion of logistic regression, sigmoid activation and cross entropy, check out [this YouTube playlist](https://www.youtube.com/watch?v=-la3q9d7AKQ&list=PLNeKWBMsAzboR8vvhnlanxCNr2V7ITuxy&index=1). Logistic regression can also be applied to multi-class classification problems, with a few modifications."
      ]
    },
    {
      "cell_type": "markdown",
      "id": "66eb880d",
      "metadata": {
        "id": "66eb880d"
      },
      "source": [
        "Let's check the weights and biases of the trained model."
      ]
    },
    {
      "cell_type": "code",
      "execution_count": null,
      "id": "ca3ace23",
      "metadata": {
        "id": "ca3ace23",
        "outputId": "f79e92b7-ef24-421c-8368-6e2513730a1f"
      },
      "outputs": [
        {
          "name": "stdout",
          "output_type": "stream",
          "text": [
            "['radius_mean', 'texture_mean', 'perimeter_mean', 'area_mean', 'smoothness_mean', 'compactness_mean', 'concavity_mean', 'concave points_mean', 'symmetry_mean', 'fractal_dimension_mean', 'radius_se', 'texture_se', 'perimeter_se', 'area_se', 'smoothness_se', 'compactness_se', 'concavity_se', 'concave points_se', 'symmetry_se', 'fractal_dimension_se', 'radius_worst', 'texture_worst', 'perimeter_worst', 'area_worst', 'smoothness_worst', 'compactness_worst', 'concavity_worst', 'concave points_worst', 'symmetry_worst', 'fractal_dimension_worst']\n"
          ]
        }
      ],
      "source": [
        "print(numeric_cols)"
      ]
    },
    {
      "cell_type": "code",
      "execution_count": null,
      "id": "691ac047",
      "metadata": {
        "id": "691ac047",
        "outputId": "8a2efeca-4597-46f4-c5da-17af1abcb996"
      },
      "outputs": [
        {
          "name": "stdout",
          "output_type": "stream",
          "text": [
            "[[0.7314421878753075, 0.8897770889122549, 0.8004857971045759, 0.9814303315131405, -0.37088569737816934, 0.5827613039908867, 1.7549644685845354, 2.1487993267215453, -0.37742486754672916, -1.3188650399600912, 0.9616173056185159, -0.47090222053724673, 0.7341412470689105, 0.7242335840747044, -0.37630794409867035, -0.44955338196238737, -0.1872210705264991, -0.20519056017267387, -0.4504982024504247, -0.6052650159109496, 1.4017254771766445, 1.3074443408945784, 1.301633000248522, 1.2563092351313319, 0.47344398865407084, 0.9250335939740716, 1.4833731782624344, 2.037233322535336, 0.8830369414622462, 0.129971468846515]]\n"
          ]
        }
      ],
      "source": [
        "print(model.coef_.tolist())"
      ]
    },
    {
      "cell_type": "code",
      "execution_count": null,
      "id": "994c8148",
      "metadata": {
        "id": "994c8148",
        "outputId": "bd78954f-c64c-4b5b-acd0-781718ffb3a8"
      },
      "outputs": [
        {
          "name": "stdout",
          "output_type": "stream",
          "text": [
            "[-4.89869569]\n"
          ]
        }
      ],
      "source": [
        "print(model.intercept_)"
      ]
    },
    {
      "cell_type": "markdown",
      "id": "4d121d27",
      "metadata": {
        "id": "4d121d27"
      },
      "source": [
        "Each weight is applied to the value in a specific column of the input. Higher the weight, greater the impact of the column on the prediction."
      ]
    },
    {
      "cell_type": "markdown",
      "id": "51822184",
      "metadata": {
        "id": "51822184"
      },
      "source": [
        "## Making Predictions and Evaluating the Model\n",
        "\n",
        "We can now use the trained model to make predictions on the training, test "
      ]
    },
    {
      "cell_type": "code",
      "execution_count": null,
      "id": "c3287168",
      "metadata": {
        "id": "c3287168"
      },
      "outputs": [],
      "source": [
        "X_train = train_inputs[numeric_cols]\n",
        "X_val = val_inputs[numeric_cols]\n",
        "X_test = test_inputs[numeric_cols]"
      ]
    },
    {
      "cell_type": "code",
      "execution_count": null,
      "id": "824fee00",
      "metadata": {
        "id": "824fee00"
      },
      "outputs": [],
      "source": [
        "train_preds = model.predict(X_train)"
      ]
    },
    {
      "cell_type": "code",
      "execution_count": null,
      "id": "46c6ca54",
      "metadata": {
        "id": "46c6ca54",
        "outputId": "6363aaa7-a93e-40d7-8db6-9f54ef86caf5"
      },
      "outputs": [
        {
          "data": {
            "text/plain": [
              "array(['B', 'M', 'M', 'B', 'B', 'B', 'B', 'B', 'M', 'B', 'B', 'M', 'B',\n",
              "       'B', 'B', 'M', 'B', 'B', 'B', 'M', 'B', 'B', 'B', 'M', 'B', 'B',\n",
              "       'B', 'B', 'M', 'B', 'M', 'B', 'B', 'B', 'B', 'B', 'B', 'M', 'B',\n",
              "       'B', 'B', 'M', 'M', 'B', 'M', 'M', 'B', 'B', 'M', 'B', 'M', 'B',\n",
              "       'M', 'M', 'M', 'M', 'B', 'B', 'M', 'B', 'B', 'B', 'B', 'B', 'M',\n",
              "       'M', 'B', 'M', 'B', 'M', 'B', 'B', 'B', 'B', 'B', 'M', 'M', 'B',\n",
              "       'B', 'M', 'B', 'M', 'M', 'B', 'B', 'M', 'B', 'M', 'B', 'B', 'B',\n",
              "       'B', 'M', 'B', 'B', 'M', 'B', 'B', 'B', 'B', 'B', 'B', 'M', 'B',\n",
              "       'B', 'M', 'M', 'M', 'B', 'M', 'B', 'M', 'B', 'M', 'M', 'B', 'M',\n",
              "       'B', 'B', 'B', 'B', 'M', 'M', 'M', 'B', 'B', 'B', 'M', 'M', 'M',\n",
              "       'B', 'M', 'M', 'M', 'B', 'B', 'M', 'B', 'B', 'B', 'M', 'B', 'B',\n",
              "       'B', 'M', 'B', 'M', 'M', 'M', 'B', 'B', 'M', 'M', 'B', 'M', 'B',\n",
              "       'M', 'M', 'M', 'B', 'B', 'B', 'B', 'M', 'B', 'B', 'M', 'M', 'B',\n",
              "       'M', 'B', 'M', 'B', 'B', 'B', 'B', 'B', 'B', 'B', 'B', 'B', 'M',\n",
              "       'B', 'B', 'M', 'M', 'M', 'B', 'B', 'B', 'B', 'B', 'B', 'M', 'M',\n",
              "       'B', 'B', 'B', 'B', 'B', 'M', 'B', 'M', 'B', 'B', 'B', 'B', 'B',\n",
              "       'M', 'M', 'M', 'M', 'B', 'B', 'B', 'M', 'M', 'B', 'B', 'M', 'B',\n",
              "       'B', 'M', 'B', 'M', 'M', 'B', 'B', 'B', 'M', 'B', 'B', 'B', 'B',\n",
              "       'M', 'B', 'B', 'B', 'B', 'B', 'B', 'B', 'B', 'B', 'M', 'B', 'B',\n",
              "       'B', 'B', 'M', 'B', 'B', 'M', 'B', 'B', 'B', 'B', 'B', 'B', 'B',\n",
              "       'B', 'B', 'B', 'B', 'M', 'B', 'M', 'M', 'B', 'B', 'M', 'B', 'B',\n",
              "       'B', 'B', 'M', 'M', 'B', 'M', 'B', 'B', 'B', 'M', 'B', 'B', 'B',\n",
              "       'M', 'M', 'B', 'M', 'B', 'B', 'B', 'B', 'M', 'B', 'B', 'B', 'B',\n",
              "       'M', 'B', 'B', 'M', 'B', 'B', 'B', 'B', 'B', 'M', 'M', 'B', 'M',\n",
              "       'B', 'B', 'B', 'M', 'B', 'M', 'M', 'B', 'B', 'B', 'B', 'M', 'B',\n",
              "       'B', 'B', 'B', 'B', 'B', 'B', 'M', 'B', 'B', 'B', 'M', 'M', 'M',\n",
              "       'B', 'M', 'B'], dtype=object)"
            ]
          },
          "execution_count": 68,
          "metadata": {},
          "output_type": "execute_result"
        }
      ],
      "source": [
        "train_preds"
      ]
    },
    {
      "cell_type": "code",
      "execution_count": null,
      "id": "7fc1800e",
      "metadata": {
        "id": "7fc1800e",
        "outputId": "732653be-c032-42a8-8da6-cbf5e0904fd0"
      },
      "outputs": [
        {
          "data": {
            "text/plain": [
              "217    B\n",
              "283    M\n",
              "0      M\n",
              "504    B\n",
              "251    B\n",
              "      ..\n",
              "57     M\n",
              "492    M\n",
              "418    B\n",
              "385    M\n",
              "325    B\n",
              "Name: diagnosis, Length: 341, dtype: object"
            ]
          },
          "execution_count": 69,
          "metadata": {},
          "output_type": "execute_result"
        }
      ],
      "source": [
        "train_targets"
      ]
    },
    {
      "cell_type": "markdown",
      "id": "b18ebcf7",
      "metadata": {
        "id": "b18ebcf7"
      },
      "source": [
        "We can output a probabilistic prediction using `predict_proba`."
      ]
    },
    {
      "cell_type": "code",
      "execution_count": null,
      "id": "77e6932c",
      "metadata": {
        "id": "77e6932c",
        "outputId": "11688078-fe2d-45cc-96ed-16fb202f0dbc"
      },
      "outputs": [
        {
          "data": {
            "text/plain": [
              "array([[9.61267008e-01, 3.87329924e-02],\n",
              "       [1.46798942e-01, 8.53201058e-01],\n",
              "       [5.95677230e-03, 9.94043228e-01],\n",
              "       [9.64571030e-01, 3.54289696e-02],\n",
              "       [9.26428895e-01, 7.35711054e-02],\n",
              "       [9.72445661e-01, 2.75543390e-02],\n",
              "       [8.94751996e-01, 1.05248004e-01],\n",
              "       [8.04136713e-01, 1.95863287e-01],\n",
              "       [4.93165187e-01, 5.06834813e-01],\n",
              "       [8.78194334e-01, 1.21805666e-01],\n",
              "       [8.89227500e-01, 1.10772500e-01],\n",
              "       [1.99097918e-01, 8.00902082e-01],\n",
              "       [8.30767199e-01, 1.69232801e-01],\n",
              "       [6.07484444e-01, 3.92515556e-01],\n",
              "       [8.96178726e-01, 1.03821274e-01],\n",
              "       [1.37967707e-01, 8.62032293e-01],\n",
              "       [9.69004926e-01, 3.09950738e-02],\n",
              "       [9.44135883e-01, 5.58641174e-02],\n",
              "       [9.15381877e-01, 8.46181235e-02],\n",
              "       [2.59863260e-02, 9.74013674e-01],\n",
              "       [9.23142285e-01, 7.68577147e-02],\n",
              "       [9.17672112e-01, 8.23278879e-02],\n",
              "       [9.59649911e-01, 4.03500890e-02],\n",
              "       [2.01147976e-02, 9.79885202e-01],\n",
              "       [6.94845100e-01, 3.05154900e-01],\n",
              "       [9.16372819e-01, 8.36271814e-02],\n",
              "       [9.45788970e-01, 5.42110296e-02],\n",
              "       [9.82550681e-01, 1.74493187e-02],\n",
              "       [4.74495302e-01, 5.25504698e-01],\n",
              "       [9.46588285e-01, 5.34117152e-02],\n",
              "       [1.13887157e-02, 9.88611284e-01],\n",
              "       [8.61655090e-01, 1.38344910e-01],\n",
              "       [9.19128886e-01, 8.08711135e-02],\n",
              "       [9.18411520e-01, 8.15884805e-02],\n",
              "       [9.08832537e-01, 9.11674626e-02],\n",
              "       [8.88398098e-01, 1.11601902e-01],\n",
              "       [8.88918971e-01, 1.11081029e-01],\n",
              "       [1.36680490e-01, 8.63319510e-01],\n",
              "       [9.77066348e-01, 2.29336520e-02],\n",
              "       [5.02346143e-01, 4.97653857e-01],\n",
              "       [9.75806456e-01, 2.41935443e-02],\n",
              "       [3.78088745e-01, 6.21911255e-01],\n",
              "       [6.18511537e-02, 9.38148846e-01],\n",
              "       [7.87915190e-01, 2.12084810e-01],\n",
              "       [6.44042152e-02, 9.35595785e-01],\n",
              "       [1.91437981e-03, 9.98085620e-01],\n",
              "       [9.92384645e-01, 7.61535490e-03],\n",
              "       [9.53693786e-01, 4.63062136e-02],\n",
              "       [1.24661266e-01, 8.75338734e-01],\n",
              "       [9.69898279e-01, 3.01017208e-02],\n",
              "       [1.62538704e-01, 8.37461296e-01],\n",
              "       [8.24310979e-01, 1.75689021e-01],\n",
              "       [2.96283496e-02, 9.70371650e-01],\n",
              "       [1.82526197e-01, 8.17473803e-01],\n",
              "       [1.69036068e-01, 8.30963932e-01],\n",
              "       [2.84079130e-01, 7.15920870e-01],\n",
              "       [8.23804769e-01, 1.76195231e-01],\n",
              "       [9.03055269e-01, 9.69447309e-02],\n",
              "       [3.37005832e-02, 9.66299417e-01],\n",
              "       [9.41354066e-01, 5.86459335e-02],\n",
              "       [9.53705136e-01, 4.62948641e-02],\n",
              "       [9.08455649e-01, 9.15443508e-02],\n",
              "       [6.09454792e-01, 3.90545208e-01],\n",
              "       [8.06361241e-01, 1.93638759e-01],\n",
              "       [2.16543977e-01, 7.83456023e-01],\n",
              "       [4.17777105e-02, 9.58222290e-01],\n",
              "       [5.98529076e-01, 4.01470924e-01],\n",
              "       [4.14076629e-01, 5.85923371e-01],\n",
              "       [9.66524064e-01, 3.34759359e-02],\n",
              "       [4.68652607e-01, 5.31347393e-01],\n",
              "       [9.89586620e-01, 1.04133800e-02],\n",
              "       [9.24772551e-01, 7.52274489e-02],\n",
              "       [9.46131332e-01, 5.38686679e-02],\n",
              "       [6.58641172e-01, 3.41358828e-01],\n",
              "       [9.56564599e-01, 4.34354011e-02],\n",
              "       [3.83248481e-01, 6.16751519e-01],\n",
              "       [6.80974566e-02, 9.31902543e-01],\n",
              "       [8.02266234e-01, 1.97733766e-01],\n",
              "       [6.70285449e-01, 3.29714551e-01],\n",
              "       [6.62388204e-02, 9.33761180e-01],\n",
              "       [8.35597231e-01, 1.64402769e-01],\n",
              "       [1.00694770e-01, 8.99305230e-01],\n",
              "       [4.69214485e-01, 5.30785515e-01],\n",
              "       [9.43006620e-01, 5.69933795e-02],\n",
              "       [7.56814342e-01, 2.43185658e-01],\n",
              "       [9.61932835e-02, 9.03806716e-01],\n",
              "       [9.83384989e-01, 1.66150109e-02],\n",
              "       [3.17494036e-01, 6.82505964e-01],\n",
              "       [9.83801631e-01, 1.61983688e-02],\n",
              "       [8.10169344e-01, 1.89830656e-01],\n",
              "       [9.70799652e-01, 2.92003476e-02],\n",
              "       [9.22237054e-01, 7.77629461e-02],\n",
              "       [3.18489696e-02, 9.68151030e-01],\n",
              "       [8.96864669e-01, 1.03135331e-01],\n",
              "       [8.01086322e-01, 1.98913678e-01],\n",
              "       [2.63286551e-01, 7.36713449e-01],\n",
              "       [7.31358688e-01, 2.68641312e-01],\n",
              "       [9.02810026e-01, 9.71899744e-02],\n",
              "       [8.70844549e-01, 1.29155451e-01],\n",
              "       [9.66767877e-01, 3.32321231e-02],\n",
              "       [7.93914398e-01, 2.06085602e-01],\n",
              "       [9.70333307e-01, 2.96666935e-02],\n",
              "       [2.29104110e-01, 7.70895890e-01],\n",
              "       [9.80345368e-01, 1.96546317e-02],\n",
              "       [9.40886622e-01, 5.91133780e-02],\n",
              "       [1.50475623e-01, 8.49524377e-01],\n",
              "       [3.71098258e-01, 6.28901742e-01],\n",
              "       [2.11957434e-05, 9.99978804e-01],\n",
              "       [9.50546718e-01, 4.94532821e-02],\n",
              "       [3.63071188e-02, 9.63692881e-01],\n",
              "       [9.50266868e-01, 4.97331315e-02],\n",
              "       [8.21239502e-02, 9.17876050e-01],\n",
              "       [9.47391818e-01, 5.26081818e-02],\n",
              "       [9.14283388e-02, 9.08571661e-01],\n",
              "       [2.50476710e-01, 7.49523290e-01],\n",
              "       [9.80147332e-01, 1.98526682e-02],\n",
              "       [1.41599091e-02, 9.85840091e-01],\n",
              "       [9.58742312e-01, 4.12576884e-02],\n",
              "       [9.40391054e-01, 5.96089460e-02],\n",
              "       [9.53618983e-01, 4.63810174e-02],\n",
              "       [7.29629830e-01, 2.70370170e-01],\n",
              "       [2.42319178e-04, 9.99757681e-01],\n",
              "       [2.98774583e-01, 7.01225417e-01],\n",
              "       [4.69043545e-01, 5.30956455e-01],\n",
              "       [9.52603732e-01, 4.73962677e-02],\n",
              "       [8.41836180e-01, 1.58163820e-01],\n",
              "       [8.96591495e-01, 1.03408505e-01],\n",
              "       [9.55189093e-03, 9.90448109e-01],\n",
              "       [1.24716487e-03, 9.98752835e-01],\n",
              "       [1.87184031e-03, 9.98128160e-01],\n",
              "       [9.67644988e-01, 3.23550117e-02],\n",
              "       [1.25827584e-01, 8.74172416e-01],\n",
              "       [1.00412778e-02, 9.89958722e-01],\n",
              "       [1.25488319e-02, 9.87451168e-01],\n",
              "       [9.37945566e-01, 6.20544342e-02],\n",
              "       [9.32194856e-01, 6.78051443e-02],\n",
              "       [4.95467965e-01, 5.04532035e-01],\n",
              "       [6.44361035e-01, 3.55638965e-01],\n",
              "       [9.63322378e-01, 3.66776219e-02],\n",
              "       [8.70222969e-01, 1.29777031e-01],\n",
              "       [2.29302434e-01, 7.70697566e-01],\n",
              "       [9.49909122e-01, 5.00908780e-02],\n",
              "       [8.85091539e-01, 1.14908461e-01],\n",
              "       [9.62738939e-01, 3.72610613e-02],\n",
              "       [3.77953175e-01, 6.22046825e-01],\n",
              "       [9.45928190e-01, 5.40718096e-02],\n",
              "       [2.64173880e-01, 7.35826120e-01],\n",
              "       [1.18345647e-01, 8.81654353e-01],\n",
              "       [4.33962124e-02, 9.56603788e-01],\n",
              "       [8.78622295e-01, 1.21377705e-01],\n",
              "       [6.89674658e-01, 3.10325342e-01],\n",
              "       [5.69908515e-03, 9.94300915e-01],\n",
              "       [4.48297109e-02, 9.55170289e-01],\n",
              "       [8.65400303e-01, 1.34599697e-01],\n",
              "       [2.90911242e-01, 7.09088758e-01],\n",
              "       [6.17774106e-01, 3.82225894e-01],\n",
              "       [2.11827948e-02, 9.78817205e-01],\n",
              "       [2.76948570e-01, 7.23051430e-01],\n",
              "       [1.52578770e-01, 8.47421230e-01],\n",
              "       [5.97031581e-01, 4.02968419e-01],\n",
              "       [9.42243028e-01, 5.77569717e-02],\n",
              "       [5.82374008e-01, 4.17625992e-01],\n",
              "       [8.28801189e-01, 1.71198811e-01],\n",
              "       [8.45956790e-03, 9.91540432e-01],\n",
              "       [9.09956667e-01, 9.00433329e-02],\n",
              "       [8.56223114e-01, 1.43776886e-01],\n",
              "       [3.95132310e-01, 6.04867690e-01],\n",
              "       [6.65453210e-02, 9.33454679e-01],\n",
              "       [8.20222785e-01, 1.79777215e-01],\n",
              "       [1.70799938e-02, 9.82920006e-01],\n",
              "       [8.99147614e-01, 1.00852386e-01],\n",
              "       [2.29025537e-01, 7.70974463e-01],\n",
              "       [9.31089112e-01, 6.89108877e-02],\n",
              "       [6.80513790e-01, 3.19486210e-01],\n",
              "       [8.44670489e-01, 1.55329511e-01],\n",
              "       [9.76384114e-01, 2.36158862e-02],\n",
              "       [8.77183958e-01, 1.22816042e-01],\n",
              "       [8.56925202e-01, 1.43074798e-01],\n",
              "       [8.21173074e-01, 1.78826926e-01],\n",
              "       [5.34189072e-01, 4.65810928e-01],\n",
              "       [7.71943555e-01, 2.28056445e-01],\n",
              "       [3.70813169e-01, 6.29186831e-01],\n",
              "       [9.45714496e-01, 5.42855037e-02],\n",
              "       [8.61135750e-01, 1.38864250e-01],\n",
              "       [1.67842420e-02, 9.83215758e-01],\n",
              "       [2.74025628e-02, 9.72597437e-01],\n",
              "       [1.27513975e-01, 8.72486025e-01],\n",
              "       [9.37978770e-01, 6.20212303e-02],\n",
              "       [9.67355740e-01, 3.26442597e-02],\n",
              "       [8.81918332e-01, 1.18081668e-01],\n",
              "       [8.92550357e-01, 1.07449643e-01],\n",
              "       [7.00921863e-01, 2.99078137e-01],\n",
              "       [9.70346376e-01, 2.96536241e-02],\n",
              "       [3.71658215e-03, 9.96283418e-01],\n",
              "       [4.39676826e-01, 5.60323174e-01],\n",
              "       [9.19067201e-01, 8.09327993e-02],\n",
              "       [7.46121705e-01, 2.53878295e-01],\n",
              "       [7.96624853e-01, 2.03375147e-01],\n",
              "       [8.13744741e-01, 1.86255259e-01],\n",
              "       [9.71103053e-01, 2.88969468e-02],\n",
              "       [3.22036306e-04, 9.99677964e-01],\n",
              "       [5.84377628e-01, 4.15622372e-01],\n",
              "       [2.08299852e-04, 9.99791700e-01],\n",
              "       [7.67814157e-01, 2.32185843e-01],\n",
              "       [9.79875920e-01, 2.01240805e-02],\n",
              "       [8.18921000e-01, 1.81079000e-01],\n",
              "       [9.85095055e-01, 1.49049448e-02],\n",
              "       [9.48683018e-01, 5.13169817e-02],\n",
              "       [4.41118605e-01, 5.58881395e-01],\n",
              "       [3.29862649e-01, 6.70137351e-01],\n",
              "       [1.12725523e-02, 9.88727448e-01],\n",
              "       [1.23023179e-01, 8.76976821e-01],\n",
              "       [9.80729579e-01, 1.92704205e-02],\n",
              "       [5.90864856e-01, 4.09135144e-01],\n",
              "       [9.52830831e-01, 4.71691688e-02],\n",
              "       [8.86901766e-02, 9.11309823e-01],\n",
              "       [5.49353348e-02, 9.45064665e-01],\n",
              "       [8.22295651e-01, 1.77704349e-01],\n",
              "       [9.19033433e-01, 8.09665667e-02],\n",
              "       [2.94406619e-02, 9.70559338e-01],\n",
              "       [9.36832699e-01, 6.31673010e-02],\n",
              "       [5.11316512e-01, 4.88683488e-01],\n",
              "       [4.69003761e-02, 9.53099624e-01],\n",
              "       [8.51950506e-01, 1.48049494e-01],\n",
              "       [8.74998290e-03, 9.91250017e-01],\n",
              "       [1.62141500e-01, 8.37858500e-01],\n",
              "       [8.48675637e-01, 1.51324363e-01],\n",
              "       [9.23801011e-01, 7.61989892e-02],\n",
              "       [7.19199826e-01, 2.80800174e-01],\n",
              "       [3.81595121e-01, 6.18404879e-01],\n",
              "       [9.08688966e-01, 9.13110344e-02],\n",
              "       [8.62070377e-01, 1.37929623e-01],\n",
              "       [5.09334451e-01, 4.90665549e-01],\n",
              "       [9.40450671e-01, 5.95493294e-02],\n",
              "       [1.12393661e-01, 8.87606339e-01],\n",
              "       [9.78876141e-01, 2.11238588e-02],\n",
              "       [8.82584115e-01, 1.17415885e-01],\n",
              "       [7.87473246e-01, 2.12526754e-01],\n",
              "       [8.20349028e-01, 1.79650972e-01],\n",
              "       [9.18432965e-01, 8.15670347e-02],\n",
              "       [7.97545587e-01, 2.02454413e-01],\n",
              "       [8.83469185e-01, 1.16530815e-01],\n",
              "       [6.54818105e-01, 3.45181895e-01],\n",
              "       [9.24231027e-01, 7.57689734e-02],\n",
              "       [3.30084002e-03, 9.96699160e-01],\n",
              "       [8.41080617e-01, 1.58919383e-01],\n",
              "       [8.85001337e-01, 1.14998663e-01],\n",
              "       [7.86921935e-01, 2.13078065e-01],\n",
              "       [6.04263347e-01, 3.95736653e-01],\n",
              "       [5.00952506e-02, 9.49904749e-01],\n",
              "       [5.45397109e-01, 4.54602891e-01],\n",
              "       [7.49361979e-01, 2.50638021e-01],\n",
              "       [1.74954989e-02, 9.82504501e-01],\n",
              "       [9.15795426e-01, 8.42045737e-02],\n",
              "       [9.76010144e-01, 2.39898557e-02],\n",
              "       [9.19476962e-01, 8.05230383e-02],\n",
              "       [8.57255351e-01, 1.42744649e-01],\n",
              "       [9.74803564e-01, 2.51964361e-02],\n",
              "       [8.81173098e-01, 1.18826902e-01],\n",
              "       [9.89899127e-01, 1.01008726e-02],\n",
              "       [8.22757670e-01, 1.77242330e-01],\n",
              "       [8.91685746e-01, 1.08314254e-01],\n",
              "       [8.90707261e-01, 1.09292739e-01],\n",
              "       [9.76675021e-01, 2.33249791e-02],\n",
              "       [2.87445187e-02, 9.71255481e-01],\n",
              "       [9.53713963e-01, 4.62860374e-02],\n",
              "       [1.60867667e-01, 8.39132333e-01],\n",
              "       [1.12494356e-01, 8.87505644e-01],\n",
              "       [9.67395413e-01, 3.26045871e-02],\n",
              "       [6.51795630e-01, 3.48204370e-01],\n",
              "       [1.71471974e-03, 9.98285280e-01],\n",
              "       [9.52450692e-01, 4.75493082e-02],\n",
              "       [8.45419697e-01, 1.54580303e-01],\n",
              "       [9.42313833e-01, 5.76861667e-02],\n",
              "       [8.14159458e-01, 1.85840542e-01],\n",
              "       [4.79024099e-01, 5.20975901e-01],\n",
              "       [1.64425744e-02, 9.83557426e-01],\n",
              "       [8.87309915e-01, 1.12690085e-01],\n",
              "       [3.15273657e-02, 9.68472634e-01],\n",
              "       [9.62054853e-01, 3.79451468e-02],\n",
              "       [9.67909434e-01, 3.20905658e-02],\n",
              "       [9.22677423e-01, 7.73225774e-02],\n",
              "       [2.24508706e-02, 9.77549129e-01],\n",
              "       [9.00960124e-01, 9.90398758e-02],\n",
              "       [8.63497897e-01, 1.36502103e-01],\n",
              "       [9.52151485e-01, 4.78485148e-02],\n",
              "       [3.16729440e-02, 9.68327056e-01],\n",
              "       [8.07856614e-03, 9.91921434e-01],\n",
              "       [8.30599779e-01, 1.69400221e-01],\n",
              "       [1.83771660e-01, 8.16228340e-01],\n",
              "       [8.88524204e-01, 1.11475796e-01],\n",
              "       [9.57274699e-01, 4.27253008e-02],\n",
              "       [5.88231117e-01, 4.11768883e-01],\n",
              "       [5.95022147e-01, 4.04977853e-01],\n",
              "       [8.44765934e-02, 9.15523407e-01],\n",
              "       [6.34294986e-01, 3.65705014e-01],\n",
              "       [8.72319487e-01, 1.27680513e-01],\n",
              "       [9.41902622e-01, 5.80973778e-02],\n",
              "       [9.48090507e-01, 5.19094932e-02],\n",
              "       [1.12948649e-01, 8.87051351e-01],\n",
              "       [5.96213611e-01, 4.03786389e-01],\n",
              "       [8.83404413e-01, 1.16595587e-01],\n",
              "       [1.70265361e-01, 8.29734639e-01],\n",
              "       [7.92312182e-01, 2.07687818e-01],\n",
              "       [9.84699104e-01, 1.53008960e-02],\n",
              "       [8.96214257e-01, 1.03785743e-01],\n",
              "       [8.22560274e-01, 1.77439726e-01],\n",
              "       [9.77299529e-01, 2.27004710e-02],\n",
              "       [5.12387080e-02, 9.48761292e-01],\n",
              "       [1.96550133e-02, 9.80344987e-01],\n",
              "       [9.95074088e-01, 4.92591232e-03],\n",
              "       [1.07729325e-01, 8.92270675e-01],\n",
              "       [9.66492964e-01, 3.35070362e-02],\n",
              "       [5.43022376e-01, 4.56977624e-01],\n",
              "       [9.56513508e-01, 4.34864922e-02],\n",
              "       [2.02485846e-01, 7.97514154e-01],\n",
              "       [9.53269873e-01, 4.67301266e-02],\n",
              "       [8.56521399e-02, 9.14347860e-01],\n",
              "       [4.92680919e-01, 5.07319081e-01],\n",
              "       [9.24676482e-01, 7.53235179e-02],\n",
              "       [8.24598854e-01, 1.75401146e-01],\n",
              "       [9.36318985e-01, 6.36810147e-02],\n",
              "       [6.14305266e-01, 3.85694734e-01],\n",
              "       [3.69508709e-01, 6.30491291e-01],\n",
              "       [7.65936944e-01, 2.34063056e-01],\n",
              "       [9.33872756e-01, 6.61272442e-02],\n",
              "       [9.85153099e-01, 1.48469007e-02],\n",
              "       [9.64965627e-01, 3.50343731e-02],\n",
              "       [9.59846803e-01, 4.01531968e-02],\n",
              "       [9.16276073e-01, 8.37239273e-02],\n",
              "       [9.22345844e-01, 7.76541558e-02],\n",
              "       [1.32968624e-01, 8.67031376e-01],\n",
              "       [8.81003169e-01, 1.18996831e-01],\n",
              "       [7.03957462e-01, 2.96042538e-01],\n",
              "       [8.24724086e-01, 1.75275914e-01],\n",
              "       [4.81914567e-01, 5.18085433e-01],\n",
              "       [2.14531614e-01, 7.85468386e-01],\n",
              "       [1.73448566e-01, 8.26551434e-01],\n",
              "       [9.29375651e-01, 7.06243493e-02],\n",
              "       [4.93806813e-01, 5.06193187e-01],\n",
              "       [9.20263021e-01, 7.97369792e-02]])"
            ]
          },
          "execution_count": 70,
          "metadata": {},
          "output_type": "execute_result"
        }
      ],
      "source": [
        "train_probs = model.predict_proba(X_train)\n",
        "train_probs"
      ]
    },
    {
      "cell_type": "markdown",
      "id": "8bc71563",
      "metadata": {
        "id": "8bc71563"
      },
      "source": [
        "The numbers above indicate the probabilities for the target classes \"B\" and \"M\"."
      ]
    },
    {
      "cell_type": "code",
      "execution_count": null,
      "id": "f3418b08",
      "metadata": {
        "id": "f3418b08",
        "outputId": "b42f6411-d9f1-4230-dc6a-0ad01a1ba788"
      },
      "outputs": [
        {
          "data": {
            "text/plain": [
              "array(['B', 'M'], dtype=object)"
            ]
          },
          "execution_count": 71,
          "metadata": {},
          "output_type": "execute_result"
        }
      ],
      "source": [
        "model.classes_"
      ]
    },
    {
      "cell_type": "markdown",
      "id": "dd736ce5",
      "metadata": {
        "id": "dd736ce5"
      },
      "source": [
        "We can test the accuracy of the model's predictions by computing the percentage of matching values in `train_preds` and `train_targets`.\n",
        "\n",
        "This can be done using the `accuracy_score` function from `sklearn.metrics`."
      ]
    },
    {
      "cell_type": "code",
      "execution_count": null,
      "id": "943212e6",
      "metadata": {
        "id": "943212e6"
      },
      "outputs": [],
      "source": [
        "from sklearn.metrics import accuracy_score"
      ]
    },
    {
      "cell_type": "code",
      "execution_count": null,
      "id": "85748aa8",
      "metadata": {
        "id": "85748aa8",
        "outputId": "c4924baf-2f5b-48ea-940b-d786b2e59cdf"
      },
      "outputs": [
        {
          "data": {
            "text/plain": [
              "0.9736070381231672"
            ]
          },
          "execution_count": 73,
          "metadata": {},
          "output_type": "execute_result"
        }
      ],
      "source": [
        "accuracy_score(train_targets, train_preds)"
      ]
    },
    {
      "cell_type": "markdown",
      "id": "29d0bd94",
      "metadata": {
        "id": "29d0bd94"
      },
      "source": [
        "The model achieves an accuracy of 97.3% on the training set. We can visualize the breakdown of correctly and incorrectly classified inputs using a confusion matrix.\n",
        "\n",
        "<img src=\"https://i.imgur.com/UM28BCN.png\" width=\"480\">"
      ]
    },
    {
      "cell_type": "code",
      "execution_count": null,
      "id": "1979bd49",
      "metadata": {
        "id": "1979bd49"
      },
      "outputs": [],
      "source": [
        "from sklearn.metrics import confusion_matrix"
      ]
    },
    {
      "cell_type": "code",
      "execution_count": null,
      "id": "9fab26c7",
      "metadata": {
        "id": "9fab26c7",
        "outputId": "04e236da-9623-4a07-a5c2-8c498043c3f8"
      },
      "outputs": [
        {
          "data": {
            "text/plain": [
              "array([[0.99537037, 0.00462963],\n",
              "       [0.064     , 0.936     ]])"
            ]
          },
          "execution_count": 75,
          "metadata": {},
          "output_type": "execute_result"
        }
      ],
      "source": [
        "confusion_matrix(train_targets, train_preds, normalize='true')"
      ]
    },
    {
      "cell_type": "markdown",
      "id": "d1808601",
      "metadata": {
        "id": "d1808601"
      },
      "source": [
        "Let's define a helper function to generate predictions, compute the accuracy score and plot a confusion matrix for a given st of inputs."
      ]
    },
    {
      "cell_type": "code",
      "execution_count": null,
      "id": "c45be867",
      "metadata": {
        "id": "c45be867"
      },
      "outputs": [],
      "source": [
        "def predict_and_plot(inputs, targets, name=''):\n",
        "    preds = model.predict(inputs)\n",
        "    \n",
        "    accuracy = accuracy_score(targets, preds)\n",
        "    print(\"Accuracy: {:.2f}%\".format(accuracy * 100))\n",
        "    \n",
        "    cf = confusion_matrix(targets, preds, normalize='true')\n",
        "    plt.figure()\n",
        "    sns.heatmap(cf, annot=True)\n",
        "    plt.xlabel('Prediction')\n",
        "    plt.ylabel('Target')\n",
        "    plt.title('{} Confusion Matrix'.format(name));\n",
        "    \n",
        "    return preds"
      ]
    },
    {
      "cell_type": "code",
      "execution_count": null,
      "id": "5b1b60c8",
      "metadata": {
        "id": "5b1b60c8",
        "outputId": "4e440199-67b1-4a51-a753-b9aa3a5e46c0"
      },
      "outputs": [
        {
          "name": "stdout",
          "output_type": "stream",
          "text": [
            "Accuracy: 97.36%\n"
          ]
        },
        {
          "data": {
            "image/png": "[encoded data removed]",
            "text/plain": [
              "<Figure size 720x432 with 2 Axes>"
            ]
          },
          "metadata": {
            "needs_background": "light"
          },
          "output_type": "display_data"
        }
      ],
      "source": [
        "train_preds = predict_and_plot(X_train, train_targets, 'Training')"
      ]
    },
    {
      "cell_type": "markdown",
      "id": "046acfc8",
      "metadata": {
        "id": "046acfc8"
      },
      "source": [
        "Let's compute the model's accuracy on the validation and test sets too."
      ]
    },
    {
      "cell_type": "code",
      "execution_count": null,
      "id": "32bc60b4",
      "metadata": {
        "id": "32bc60b4",
        "outputId": "04e60698-a6f0-4f09-e6bd-867a61860236"
      },
      "outputs": [
        {
          "name": "stdout",
          "output_type": "stream",
          "text": [
            "Accuracy: 95.61%\n"
          ]
        },
        {
          "data": {
            "image/png": "[encoded data removed]",
            "text/plain": [
              "<Figure size 720x432 with 2 Axes>"
            ]
          },
          "metadata": {
            "needs_background": "light"
          },
          "output_type": "display_data"
        }
      ],
      "source": [
        "val_preds = predict_and_plot(X_val, val_targets, 'Validation')"
      ]
    },
    {
      "cell_type": "code",
      "execution_count": null,
      "id": "a5d1477f",
      "metadata": {
        "id": "a5d1477f",
        "outputId": "2f6bb91b-b414-4aee-af8d-f27307d7e45f"
      },
      "outputs": [
        {
          "name": "stdout",
          "output_type": "stream",
          "text": [
            "Accuracy: 96.49%\n"
          ]
        },
        {
          "data": {
            "image/png": "[encoded data removed]",
            "text/plain": [
              "<Figure size 720x432 with 2 Axes>"
            ]
          },
          "metadata": {
            "needs_background": "light"
          },
          "output_type": "display_data"
        }
      ],
      "source": [
        "test_preds = predict_and_plot(X_test, test_targets, 'Test')"
      ]
    },
    {
      "cell_type": "markdown",
      "id": "db995a96",
      "metadata": {
        "id": "db995a96"
      },
      "source": [
        "The accuracy of the model on the test and validation set are above 95%, which suggests that our model generalizes well to data it hasn't seen before. \n",
        "\n",
        "But how good is 95% accuracy? While this depends on the nature of the problem and on business requirements, a good way to verify whether a model has actually learned something useful is to compare its results to a \"random\" or \"dumb\" model.\n",
        "\n",
        "Let's create two models: one that guesses randomly and another that always return \"No\". Both of these models completely ignore the inputs given to them."
      ]
    },
    {
      "cell_type": "code",
      "execution_count": null,
      "id": "cd773c20",
      "metadata": {
        "id": "cd773c20"
      },
      "outputs": [],
      "source": [
        "def random_guess(inputs):\n",
        "    return np.random.choice([\"B\", \"M\"], len(inputs))"
      ]
    },
    {
      "cell_type": "code",
      "execution_count": null,
      "id": "dcf485bc",
      "metadata": {
        "id": "dcf485bc"
      },
      "outputs": [],
      "source": [
        "def all_benign(inputs):\n",
        "    return np.full(len(inputs), \"B\")"
      ]
    },
    {
      "cell_type": "markdown",
      "id": "58726b39",
      "metadata": {
        "id": "58726b39"
      },
      "source": [
        "Let's check the accuracies of these two models on the test set."
      ]
    },
    {
      "cell_type": "code",
      "execution_count": null,
      "id": "92891c96",
      "metadata": {
        "id": "92891c96",
        "outputId": "f9a42af3-6d35-49b6-849f-b062b23f67df"
      },
      "outputs": [
        {
          "data": {
            "text/plain": [
              "0.5614035087719298"
            ]
          },
          "execution_count": 82,
          "metadata": {},
          "output_type": "execute_result"
        }
      ],
      "source": [
        "accuracy_score(test_targets, random_guess(X_test))"
      ]
    },
    {
      "cell_type": "code",
      "execution_count": null,
      "id": "af8d48d1",
      "metadata": {
        "id": "af8d48d1",
        "outputId": "379690c8-0c86-4758-9abd-a65a552603bc"
      },
      "outputs": [
        {
          "data": {
            "text/plain": [
              "0.6228070175438597"
            ]
          },
          "execution_count": 83,
          "metadata": {},
          "output_type": "execute_result"
        }
      ],
      "source": [
        "accuracy_score(test_targets, all_benign(X_test))"
      ]
    },
    {
      "cell_type": "markdown",
      "id": "9cc8fe80",
      "metadata": {
        "id": "9cc8fe80"
      },
      "source": [
        "Our random model achieves an accuracy of 52% and our \"always benign\" model achieves an accuracy of 62%. \n",
        "\n",
        "Thankfully, our model is better than a \"dumb\" or \"random\" model! This is not always the case, so it's a good practice to benchmark any model you train against such baseline models."
      ]
    },
    {
      "cell_type": "markdown",
      "id": "7f4c8dab",
      "metadata": {
        "id": "7f4c8dab"
      },
      "source": [
        "## Making Predictions on a Single Input\n",
        "\n",
        "Once the model has been trained to a satisfactory accuracy, it can be used to make predictions on new data. Consider the following dictionary containing new data."
      ]
    },
    {
      "cell_type": "code",
      "execution_count": null,
      "id": "db79db33",
      "metadata": {
        "id": "db79db33"
      },
      "outputs": [],
      "source": [
        "new_input = {'id':1,\n",
        "             'radius_mean':10, \n",
        "             'texture_mean': 10, \n",
        "             'perimeter_mean': 20, \n",
        "             'area_mean' : 34, \n",
        "             'smoothness_mean':0.1, \n",
        "             'compactness_mean':0.2, \n",
        "             'concavity_mean':0.3, \n",
        "             'concave points_mean':0.4, \n",
        "             'symmetry_mean':0.5, \n",
        "             'fractal_dimension_mean': 0.6,\n",
        "             'radius_se': 0.7, \n",
        "             'texture_se': 0.9,\n",
        "             'perimeter_se': 11, \n",
        "             'area_se': 200, \n",
        "             'smoothness_se': 12, \n",
        "             'compactness_se': 0.9, \n",
        "             'concavity_se': 0.87, \n",
        "             'concave points_se': 0.3, \n",
        "             'symmetry_se': 0.2, \n",
        "             'fractal_dimension_se': 0.4,\n",
        "             'radius_worst': 0.6, \n",
        "             'texture_worst': 0.6,\n",
        "             'perimeter_worst': 12, \n",
        "             'area_worst': 20,\n",
        "             'smoothness_worst': 0.7,\n",
        "             'compactness_worst': 0.3, \n",
        "             'concavity_worst': 0.2, \n",
        "             'concave points_worst': 0.1,\n",
        "             'symmetry_worst': 0.17,\n",
        "             'fractal_dimension_worst': 0.02}"
      ]
    },
    {
      "cell_type": "markdown",
      "id": "dfe3e020",
      "metadata": {
        "id": "dfe3e020"
      },
      "source": [
        "The first step is to convert the dictionary into a Pandas dataframe, similar to `raw_df`. This can be done by passing a list containing the given dictionary to the `pd.DataFrame` constructor."
      ]
    },
    {
      "cell_type": "code",
      "execution_count": null,
      "id": "baa3a346",
      "metadata": {
        "id": "baa3a346"
      },
      "outputs": [],
      "source": [
        "new_input_df = pd.DataFrame([new_input])"
      ]
    },
    {
      "cell_type": "code",
      "execution_count": null,
      "id": "b81cb7b4",
      "metadata": {
        "id": "b81cb7b4",
        "outputId": "02a95ecb-24f8-4ce0-d798-53c942c7c0e6"
      },
      "outputs": [
        {
          "data": {
            "text/html": [
              "<div>\n",
              "<style scoped>\n",
              "    .dataframe tbody tr th:only-of-type {\n",
              "        vertical-align: middle;\n",
              "    }\n",
              "\n",
              "    .dataframe tbody tr th {\n",
              "        vertical-align: top;\n",
              "    }\n",
              "\n",
              "    .dataframe thead th {\n",
              "        text-align: right;\n",
              "    }\n",
              "</style>\n",
              "<table border=\"1\" class=\"dataframe\">\n",
              "  <thead>\n",
              "    <tr style=\"text-align: right;\">\n",
              "      <th></th>\n",
              "      <th>id</th>\n",
              "      <th>radius_mean</th>\n",
              "      <th>texture_mean</th>\n",
              "      <th>perimeter_mean</th>\n",
              "      <th>area_mean</th>\n",
              "      <th>smoothness_mean</th>\n",
              "      <th>compactness_mean</th>\n",
              "      <th>concavity_mean</th>\n",
              "      <th>concave points_mean</th>\n",
              "      <th>symmetry_mean</th>\n",
              "      <th>...</th>\n",
              "      <th>radius_worst</th>\n",
              "      <th>texture_worst</th>\n",
              "      <th>perimeter_worst</th>\n",
              "      <th>area_worst</th>\n",
              "      <th>smoothness_worst</th>\n",
              "      <th>compactness_worst</th>\n",
              "      <th>concavity_worst</th>\n",
              "      <th>concave points_worst</th>\n",
              "      <th>symmetry_worst</th>\n",
              "      <th>fractal_dimension_worst</th>\n",
              "    </tr>\n",
              "  </thead>\n",
              "  <tbody>\n",
              "    <tr>\n",
              "      <th>0</th>\n",
              "      <td>1</td>\n",
              "      <td>10</td>\n",
              "      <td>10</td>\n",
              "      <td>20</td>\n",
              "      <td>34</td>\n",
              "      <td>0.1</td>\n",
              "      <td>0.2</td>\n",
              "      <td>0.3</td>\n",
              "      <td>0.4</td>\n",
              "      <td>0.5</td>\n",
              "      <td>...</td>\n",
              "      <td>0.6</td>\n",
              "      <td>0.6</td>\n",
              "      <td>12</td>\n",
              "      <td>20</td>\n",
              "      <td>0.7</td>\n",
              "      <td>0.3</td>\n",
              "      <td>0.2</td>\n",
              "      <td>0.1</td>\n",
              "      <td>0.17</td>\n",
              "      <td>0.02</td>\n",
              "    </tr>\n",
              "  </tbody>\n",
              "</table>\n",
              "<p>1 rows × 31 columns</p>\n",
              "</div>"
            ],
            "text/plain": [
              "   id  radius_mean  texture_mean  perimeter_mean  area_mean  smoothness_mean  \\\n",
              "0   1           10            10              20         34              0.1   \n",
              "\n",
              "   compactness_mean  concavity_mean  concave points_mean  symmetry_mean  ...  \\\n",
              "0               0.2             0.3                  0.4            0.5  ...   \n",
              "\n",
              "   radius_worst  texture_worst  perimeter_worst  area_worst  smoothness_worst  \\\n",
              "0           0.6            0.6               12          20               0.7   \n",
              "\n",
              "   compactness_worst  concavity_worst  concave points_worst  symmetry_worst  \\\n",
              "0                0.3              0.2                   0.1            0.17   \n",
              "\n",
              "   fractal_dimension_worst  \n",
              "0                     0.02  \n",
              "\n",
              "[1 rows x 31 columns]"
            ]
          },
          "execution_count": 86,
          "metadata": {},
          "output_type": "execute_result"
        }
      ],
      "source": [
        "new_input_df"
      ]
    },
    {
      "cell_type": "markdown",
      "id": "083063d5",
      "metadata": {
        "id": "083063d5"
      },
      "source": [
        "We've now created a Pandas dataframe with the same columns as `raw_df` (except `diagnosis`, which needs to be predicted). The dataframe contains just one row of data, containing the given input.\n",
        "\n",
        "\n",
        "We must now apply the same transformations applied while training the model:\n",
        "\n",
        "1. Scaling numerical features using the `scaler` created earlier"
      ]
    },
    {
      "cell_type": "code",
      "execution_count": null,
      "id": "1ed3add4",
      "metadata": {
        "id": "1ed3add4"
      },
      "outputs": [],
      "source": [
        "new_input_df[numeric_cols] = scaler.transform(new_input_df[numeric_cols])"
      ]
    },
    {
      "cell_type": "code",
      "execution_count": null,
      "id": "2b676082",
      "metadata": {
        "id": "2b676082",
        "outputId": "cc0f0d50-5955-4e81-dc82-2c8dc75f0b73"
      },
      "outputs": [
        {
          "data": {
            "text/html": [
              "<div>\n",
              "<style scoped>\n",
              "    .dataframe tbody tr th:only-of-type {\n",
              "        vertical-align: middle;\n",
              "    }\n",
              "\n",
              "    .dataframe tbody tr th {\n",
              "        vertical-align: top;\n",
              "    }\n",
              "\n",
              "    .dataframe thead th {\n",
              "        text-align: right;\n",
              "    }\n",
              "</style>\n",
              "<table border=\"1\" class=\"dataframe\">\n",
              "  <thead>\n",
              "    <tr style=\"text-align: right;\">\n",
              "      <th></th>\n",
              "      <th>radius_mean</th>\n",
              "      <th>texture_mean</th>\n",
              "      <th>perimeter_mean</th>\n",
              "      <th>area_mean</th>\n",
              "      <th>smoothness_mean</th>\n",
              "      <th>compactness_mean</th>\n",
              "      <th>concavity_mean</th>\n",
              "      <th>concave points_mean</th>\n",
              "      <th>symmetry_mean</th>\n",
              "      <th>fractal_dimension_mean</th>\n",
              "      <th>...</th>\n",
              "      <th>radius_worst</th>\n",
              "      <th>texture_worst</th>\n",
              "      <th>perimeter_worst</th>\n",
              "      <th>area_worst</th>\n",
              "      <th>smoothness_worst</th>\n",
              "      <th>compactness_worst</th>\n",
              "      <th>concavity_worst</th>\n",
              "      <th>concave points_worst</th>\n",
              "      <th>symmetry_worst</th>\n",
              "      <th>fractal_dimension_worst</th>\n",
              "    </tr>\n",
              "  </thead>\n",
              "  <tbody>\n",
              "    <tr>\n",
              "      <th>0</th>\n",
              "      <td>0.142884</td>\n",
              "      <td>0.009807</td>\n",
              "      <td>-0.164398</td>\n",
              "      <td>-0.046448</td>\n",
              "      <td>0.427643</td>\n",
              "      <td>0.554015</td>\n",
              "      <td>0.702905</td>\n",
              "      <td>1.988072</td>\n",
              "      <td>1.989899</td>\n",
              "      <td>11.584667</td>\n",
              "      <td>...</td>\n",
              "      <td>-0.260761</td>\n",
              "      <td>-0.304371</td>\n",
              "      <td>-0.191294</td>\n",
              "      <td>-0.040602</td>\n",
              "      <td>4.152612</td>\n",
              "      <td>0.264585</td>\n",
              "      <td>0.159744</td>\n",
              "      <td>0.343643</td>\n",
              "      <td>0.026611</td>\n",
              "      <td>-0.229831</td>\n",
              "    </tr>\n",
              "  </tbody>\n",
              "</table>\n",
              "<p>1 rows × 30 columns</p>\n",
              "</div>"
            ],
            "text/plain": [
              "   radius_mean  texture_mean  perimeter_mean  area_mean  smoothness_mean  \\\n",
              "0     0.142884      0.009807       -0.164398  -0.046448         0.427643   \n",
              "\n",
              "   compactness_mean  concavity_mean  concave points_mean  symmetry_mean  \\\n",
              "0          0.554015        0.702905             1.988072       1.989899   \n",
              "\n",
              "   fractal_dimension_mean  ...  radius_worst  texture_worst  perimeter_worst  \\\n",
              "0               11.584667  ...     -0.260761      -0.304371        -0.191294   \n",
              "\n",
              "   area_worst  smoothness_worst  compactness_worst  concavity_worst  \\\n",
              "0   -0.040602          4.152612           0.264585         0.159744   \n",
              "\n",
              "   concave points_worst  symmetry_worst  fractal_dimension_worst  \n",
              "0              0.343643        0.026611                -0.229831  \n",
              "\n",
              "[1 rows x 30 columns]"
            ]
          },
          "execution_count": 88,
          "metadata": {},
          "output_type": "execute_result"
        }
      ],
      "source": [
        "X_new_input = new_input_df[numeric_cols]\n",
        "X_new_input"
      ]
    },
    {
      "cell_type": "markdown",
      "id": "d1421ed5",
      "metadata": {
        "id": "d1421ed5"
      },
      "source": [
        "We can now make a prediction using `model.predict`."
      ]
    },
    {
      "cell_type": "code",
      "execution_count": null,
      "id": "f10052ba",
      "metadata": {
        "id": "f10052ba"
      },
      "outputs": [],
      "source": [
        "prediction = model.predict(X_new_input)[0]"
      ]
    },
    {
      "cell_type": "code",
      "execution_count": null,
      "id": "23a7acb6",
      "metadata": {
        "id": "23a7acb6",
        "outputId": "fae2bf70-f8e9-4a12-b413-a509a3c36252"
      },
      "outputs": [
        {
          "data": {
            "text/plain": [
              "'B'"
            ]
          },
          "execution_count": 90,
          "metadata": {},
          "output_type": "execute_result"
        }
      ],
      "source": [
        "prediction"
      ]
    },
    {
      "cell_type": "markdown",
      "id": "b94f4621",
      "metadata": {
        "id": "b94f4621"
      },
      "source": [
        "Our model predicts that it is benign! We can also check the probability of the prediction."
      ]
    },
    {
      "cell_type": "code",
      "execution_count": null,
      "id": "9dd6afa2",
      "metadata": {
        "id": "9dd6afa2"
      },
      "outputs": [],
      "source": [
        "prob = model.predict_proba(X_new_input)[0]"
      ]
    },
    {
      "cell_type": "code",
      "execution_count": null,
      "id": "8e3e6551",
      "metadata": {
        "id": "8e3e6551",
        "outputId": "ebd79800-359e-4819-bb7e-c317addc1107"
      },
      "outputs": [
        {
          "data": {
            "text/plain": [
              "array([1.00000000e+00, 5.85797687e-79])"
            ]
          },
          "execution_count": 92,
          "metadata": {},
          "output_type": "execute_result"
        }
      ],
      "source": [
        "prob"
      ]
    },
    {
      "cell_type": "markdown",
      "id": "c339dfa1",
      "metadata": {
        "id": "c339dfa1"
      },
      "source": [
        "Our model is almost certain about its prediction"
      ]
    },
    {
      "cell_type": "markdown",
      "id": "3b75b9b2",
      "metadata": {
        "id": "3b75b9b2"
      },
      "source": [
        "Let's define a helper function to make predictions for individual inputs."
      ]
    },
    {
      "cell_type": "code",
      "execution_count": null,
      "id": "9e3e2015",
      "metadata": {
        "id": "9e3e2015"
      },
      "outputs": [],
      "source": [
        "def predict_input(single_input):\n",
        "    input_df = pd.DataFrame([single_input])\n",
        "    input_df[numeric_cols] = scaler.transform(input_df[numeric_cols])\n",
        "    X_input = input_df[numeric_cols]\n",
        "    pred = model.predict(X_input)[0]\n",
        "    prob = model.predict_proba(X_input)[0][list(model.classes_).index(pred)]\n",
        "    return pred, prob"
      ]
    },
    {
      "cell_type": "markdown",
      "id": "5d4ee9e2",
      "metadata": {
        "id": "5d4ee9e2"
      },
      "source": [
        "We can now use this function to make predictions for individual inputs."
      ]
    },
    {
      "cell_type": "code",
      "execution_count": null,
      "id": "d550ba17",
      "metadata": {
        "id": "d550ba17"
      },
      "outputs": [],
      "source": [
        "new_input = {'id':1,\n",
        "             'radius_mean':10, \n",
        "             'texture_mean': 10, \n",
        "             'perimeter_mean': 20, \n",
        "             'area_mean' : 34, \n",
        "             'smoothness_mean':0.1, \n",
        "             'compactness_mean':0.2, \n",
        "             'concavity_mean':0.3, \n",
        "             'concave points_mean':0.4, \n",
        "             'symmetry_mean':0.5, \n",
        "             'fractal_dimension_mean': 0.6,\n",
        "             'radius_se': 0.7, \n",
        "             'texture_se': 0.9,\n",
        "             'perimeter_se': 11, \n",
        "             'area_se': 200, \n",
        "             'smoothness_se': 12, \n",
        "             'compactness_se': 0.9, \n",
        "             'concavity_se': 0.87, \n",
        "             'concave points_se': 0.3, \n",
        "             'symmetry_se': 0.2, \n",
        "             'fractal_dimension_se': 0.4,\n",
        "             'radius_worst': 0.6, \n",
        "             'texture_worst': 0.6,\n",
        "             'perimeter_worst': 12, \n",
        "             'area_worst': 20,\n",
        "             'smoothness_worst': 0.7,\n",
        "             'compactness_worst': 0.3, \n",
        "             'concavity_worst': 0.2, \n",
        "             'concave points_worst': 0.1,\n",
        "             'symmetry_worst': 0.17,\n",
        "             'fractal_dimension_worst': 0.02}"
      ]
    },
    {
      "cell_type": "code",
      "execution_count": null,
      "id": "e0e91f63",
      "metadata": {
        "id": "e0e91f63",
        "outputId": "d6dd6c57-fd32-4030-ffce-5fccd946766f"
      },
      "outputs": [
        {
          "data": {
            "text/plain": [
              "('B', 1.0)"
            ]
          },
          "execution_count": 95,
          "metadata": {},
          "output_type": "execute_result"
        }
      ],
      "source": [
        "predict_input(new_input)"
      ]
    },
    {
      "cell_type": "markdown",
      "id": "115a1f51",
      "metadata": {
        "id": "115a1f51"
      },
      "source": [
        "## Putting it all Together\n",
        "\n",
        "While we've covered a lot of ground in this tutorial, the number of lines of code for processing the data and training the model is fairly small. Each step requires no more than 3-4 lines of code."
      ]
    },
    {
      "cell_type": "markdown",
      "id": "5d0a579a",
      "metadata": {
        "id": "5d0a579a"
      },
      "source": [
        "### Data Preprocessing"
      ]
    },
    {
      "cell_type": "code",
      "execution_count": null,
      "id": "ff8cc858",
      "metadata": {
        "id": "ff8cc858",
        "outputId": "ffe390dc-4ea4-418f-d356-3f507f358e51"
      },
      "outputs": [
        {
          "name": "stdout",
          "output_type": "stream",
          "text": [
            "Skipping, found downloaded files in \".\\breast-cancer-wisconsin-data\" (use force=True to force download)\n"
          ]
        }
      ],
      "source": [
        "import opendatasets as od\n",
        "import pandas as pd\n",
        "import numpy as np\n",
        "from sklearn.impute import SimpleImputer\n",
        "from sklearn.preprocessing import MinMaxScaler, OneHotEncoder\n",
        "\n",
        "# Download the dataset\n",
        "od.download('https://www.kaggle.com/uciml/breast-cancer-wisconsin-data')\n",
        "raw_df = pd.read_csv('breast-cancer-wisconsin-data/data.csv')\n",
        "\n",
        "# Create training, validation and test sets\n",
        "train_val, test_df = train_test_split(raw_df, test_size = 0.2, random_state = 42)\n",
        "train_df, val_df = train_test_split(train_val, test_size = 0.25, random_state = 42)\n",
        "\n",
        "# Create inputs and targets\n",
        "input_cols = list(train_df.columns)[2:-1]\n",
        "target_col = 'diagnosis'\n",
        "train_inputs, train_targets = train_df[input_cols].copy(), train_df[target_col].copy()\n",
        "val_inputs, val_targets = val_df[input_cols].copy(), val_df[target_col].copy()\n",
        "test_inputs, test_targets = test_df[input_cols].copy(), test_df[target_col].copy()\n",
        "\n",
        "# Identify numeric and categorical columns\n",
        "numeric_cols = train_inputs.select_dtypes(include=np.number).columns.tolist()\n",
        "categorical_cols = train_inputs.select_dtypes('object').columns.tolist()\n",
        "\n",
        "# Scale numeric features\n",
        "scaler = MinMaxScaler().fit(raw_df[numeric_cols])\n",
        "train_inputs[numeric_cols] = scaler.transform(train_inputs[numeric_cols])\n",
        "val_inputs[numeric_cols] = scaler.transform(val_inputs[numeric_cols])\n",
        "test_inputs[numeric_cols] = scaler.transform(test_inputs[numeric_cols])\n",
        "\n",
        "# Save processed data to disk\n",
        "train_inputs.to_parquet('train_inputs.parquet')\n",
        "val_inputs.to_parquet('val_inputs.parquet')\n",
        "test_inputs.to_parquet('test_inputs.parquet')\n",
        "pd.DataFrame(train_targets).to_parquet('train_targets.parquet')\n",
        "pd.DataFrame(val_targets).to_parquet('val_targets.parquet')\n",
        "pd.DataFrame(test_targets).to_parquet('test_targets.parquet')\n",
        "\n",
        "# Load processed data from disk\n",
        "train_inputs = pd.read_parquet('train_inputs.parquet')\n",
        "val_inputs = pd.read_parquet('val_inputs.parquet')\n",
        "test_inputs = pd.read_parquet('test_inputs.parquet')\n",
        "train_targets = pd.read_parquet('train_targets.parquet')[target_col]\n",
        "val_targets = pd.read_parquet('val_targets.parquet')[target_col]\n",
        "test_targets = pd.read_parquet('test_targets.parquet')[target_col]\n"
      ]
    },
    {
      "cell_type": "markdown",
      "id": "7b6e18cb",
      "metadata": {
        "id": "7b6e18cb"
      },
      "source": [
        "### Model Training and Evaluation\n"
      ]
    },
    {
      "cell_type": "code",
      "execution_count": null,
      "id": "70513eb5",
      "metadata": {
        "id": "70513eb5",
        "outputId": "ab5bd216-a204-4ef5-c101-8a0f4584f3af"
      },
      "outputs": [
        {
          "name": "stdout",
          "output_type": "stream",
          "text": [
            "Accuracy: 95.61%\n",
            "Accuracy: 96.49%\n"
          ]
        },
        {
          "data": {
            "image/png": "[encoded data removed]",
            "text/plain": [
              "<Figure size 720x432 with 2 Axes>"
            ]
          },
          "metadata": {
            "needs_background": "light"
          },
          "output_type": "display_data"
        },
        {
          "data": {
            "image/png": "[encoded data removed]",
            "text/plain": [
              "<Figure size 720x432 with 2 Axes>"
            ]
          },
          "metadata": {
            "needs_background": "light"
          },
          "output_type": "display_data"
        }
      ],
      "source": [
        "from sklearn.linear_model import LogisticRegression\n",
        "from sklearn.metrics import accuracy_score\n",
        "\n",
        "# Select the columns to be used for training/prediction\n",
        "X_train = train_inputs[numeric_cols]\n",
        "X_val = val_inputs[numeric_cols]\n",
        "X_test = test_inputs[numeric_cols]\n",
        "\n",
        "# Create and train the model\n",
        "model = LogisticRegression(solver='liblinear')\n",
        "model.fit(X_train, train_targets)\n",
        "\n",
        "# Generate predictions and probabilities\n",
        "train_preds = model.predict(X_train)\n",
        "train_probs = model.predict_proba(X_train)\n",
        "accuracy_score(train_targets, train_preds)\n",
        "\n",
        "# Helper function to predict, compute accuracy & plot confustion matrix\n",
        "def predict_and_plot(inputs, targets, name=''):\n",
        "    preds = model.predict(inputs)\n",
        "    accuracy = accuracy_score(targets, preds)\n",
        "    print(\"Accuracy: {:.2f}%\".format(accuracy * 100))\n",
        "    cf = confusion_matrix(targets, preds, normalize='true')\n",
        "    plt.figure()\n",
        "    sns.heatmap(cf, annot=True)\n",
        "    plt.xlabel('Prediction')\n",
        "    plt.ylabel('Target')\n",
        "    plt.title('{} Confusion Matrix'.format(name));    \n",
        "    return preds\n",
        "\n",
        "# Evaluate on validation and test set\n",
        "val_preds = predict_and_plot(X_val, val_targets, 'Validation')\n",
        "test_preds = predict_and_plot(X_test, test_targets, 'Test')"
      ]
    },
    {
      "cell_type": "markdown",
      "id": "822ab27e",
      "metadata": {
        "id": "822ab27e"
      },
      "source": [
        "### Prediction on Single Inputs"
      ]
    },
    {
      "cell_type": "code",
      "execution_count": null,
      "id": "79df88a3",
      "metadata": {
        "id": "79df88a3",
        "outputId": "f5833f23-cb8a-4433-9328-e4d0bffc1b72"
      },
      "outputs": [
        {
          "data": {
            "text/plain": [
              "('B', 1.0)"
            ]
          },
          "execution_count": 98,
          "metadata": {},
          "output_type": "execute_result"
        }
      ],
      "source": [
        "def predict_input(single_input):\n",
        "    input_df = pd.DataFrame([single_input])\n",
        "    input_df[numeric_cols] = scaler.transform(input_df[numeric_cols])\n",
        "    X_input = input_df[numeric_cols]\n",
        "    pred = model.predict(X_input)[0]\n",
        "    prob = model.predict_proba(X_input)[0][list(model.classes_).index(pred)]\n",
        "    return pred, prob\n",
        "\n",
        "new_input = {'id':1,\n",
        "             'radius_mean':10, \n",
        "             'texture_mean': 10, \n",
        "             'perimeter_mean': 20, \n",
        "             'area_mean' : 34, \n",
        "             'smoothness_mean':0.1, \n",
        "             'compactness_mean':0.2, \n",
        "             'concavity_mean':0.3, \n",
        "             'concave points_mean':0.4, \n",
        "             'symmetry_mean':0.5, \n",
        "             'fractal_dimension_mean': 0.6,\n",
        "             'radius_se': 0.7, \n",
        "             'texture_se': 0.9,\n",
        "             'perimeter_se': 11, \n",
        "             'area_se': 200, \n",
        "             'smoothness_se': 12, \n",
        "             'compactness_se': 0.9, \n",
        "             'concavity_se': 0.87, \n",
        "             'concave points_se': 0.3, \n",
        "             'symmetry_se': 0.2, \n",
        "             'fractal_dimension_se': 0.4,\n",
        "             'radius_worst': 0.6, \n",
        "             'texture_worst': 0.6,\n",
        "             'perimeter_worst': 12, \n",
        "             'area_worst': 20,\n",
        "             'smoothness_worst': 0.7,\n",
        "             'compactness_worst': 0.3, \n",
        "             'concavity_worst': 0.2, \n",
        "             'concave points_worst': 0.1,\n",
        "             'symmetry_worst': 0.17,\n",
        "             'fractal_dimension_worst': 0.02}\n",
        "\n",
        "predict_input(new_input)"
      ]
    },
    {
      "cell_type": "markdown",
      "id": "74b5e33f",
      "metadata": {
        "id": "74b5e33f"
      },
      "source": [
        "Let's save our work using Jovian."
      ]
    },
    {
      "cell_type": "code",
      "execution_count": null,
      "id": "c5a17398",
      "metadata": {
        "id": "c5a17398",
        "outputId": "b80087f5-723e-4a05-a74b-8c92e95b0caf"
      },
      "outputs": [
        {
          "data": {
            "application/javascript": [
              "window.require && require([\"base/js/namespace\"],function(Jupyter){Jupyter.notebook.save_checkpoint()})"
            ],
            "text/plain": [
              "<IPython.core.display.Javascript object>"
            ]
          },
          "metadata": {},
          "output_type": "display_data"
        }
      ],
      "source": [
        "jovian.commit()"
      ]
    },
    {
      "cell_type": "code",
      "execution_count": null,
      "id": "07954a15",
      "metadata": {
        "id": "07954a15"
      },
      "outputs": [],
      "source": [
        ""
      ]
    }
  ],
  "metadata": {
    "kernelspec": {
      "display_name": "Python 3 (ipykernel)",
      "language": "python",
      "name": "python3"
    },
    "language_info": {
      "codemirror_mode": {
        "name": "ipython",
        "version": 3
      },
      "file_extension": ".py",
      "mimetype": "text/x-python",
      "name": "python",
      "nbconvert_exporter": "python",
      "pygments_lexer": "ipython3",
      "version": "3.8.11"
    },
    "colab": {
      "name": "breast-cancer-wisconsin-diagnostics.ipynb",
      "provenance": [],
      "include_colab_link": true
    }
  },
  "nbformat": 4,
  "nbformat_minor": 5
}